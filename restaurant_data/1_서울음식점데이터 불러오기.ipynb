{
 "cells": [
  {
   "cell_type": "code",
   "execution_count": 1,
   "id": "de007b86",
   "metadata": {},
   "outputs": [],
   "source": [
    "import pandas as pd\n",
    "import requests\n",
    "\n",
    "import matplotlib.pyplot as plt\n",
    "import seaborn as sns\n",
    "from pprint import pprint"
   ]
  },
  {
   "cell_type": "code",
   "execution_count": 2,
   "id": "a65a8cf6",
   "metadata": {},
   "outputs": [],
   "source": [
    "key = \"5450686d766e6f6b3937656b725948\"\n",
    "d_type = 'xml'\n",
    "start_page = '1'\n",
    "end_page = '1000'\n",
    "\n",
    "url = 'http://openapi.seoul.go.kr:8088/'+ key +'/'+ d_type +'/LOCALDATA_072404/'+ start_page +'/'+ end_page + '/'"
   ]
  },
  {
   "cell_type": "code",
   "execution_count": 3,
   "id": "a3323e77",
   "metadata": {},
   "outputs": [],
   "source": [
    "df = pd.read_xml(url)"
   ]
  },
  {
   "cell_type": "markdown",
   "id": "097e4619",
   "metadata": {},
   "source": [
    "### 종합"
   ]
  },
  {
   "cell_type": "code",
   "execution_count": null,
   "id": "951be195",
   "metadata": {},
   "outputs": [],
   "source": [
    "x = 1001\n",
    "\n",
    "\n",
    "for i in range(2000, 500000, 1000):\n",
    "    try:\n",
    "        url = 'http://openapi.seoul.go.kr:8088/'+ key +'/'+ d_type +'/LOCALDATA_072404/'+ str(x) +'/'+ str(i) + '/'\n",
    "        \n",
    "        x = x + 1000\n",
    "        \n",
    "        df2 = pd.read_xml(url)\n",
    "        \n",
    "        df = pd.concat([df, df2])\n",
    "        \n",
    "        \n",
    "    except: \n",
    "        pass"
   ]
  },
  {
   "cell_type": "code",
   "execution_count": null,
   "id": "5a6c4118",
   "metadata": {},
   "outputs": [],
   "source": [
    "df"
   ]
  },
  {
   "cell_type": "markdown",
   "id": "cd1615c7",
   "metadata": {},
   "source": [
    "### 필요한 칼럼만 추출"
   ]
  },
  {
   "cell_type": "code",
   "execution_count": null,
   "id": "e995464f",
   "metadata": {},
   "outputs": [],
   "source": [
    "df.drop([0, 1], axis=0, inplace=True)"
   ]
  },
  {
   "cell_type": "code",
   "execution_count": null,
   "id": "ebb68f93",
   "metadata": {
    "scrolled": true
   },
   "outputs": [],
   "source": [
    "data = df[['BPLCNM','TRDSTATENM', 'SITEPOSTNO', 'SITEWHLADDR', 'RDNWHLADDR', 'X', 'Y']]\n",
    "\n",
    "data.reset_index(inplace=True, drop=True)"
   ]
  },
  {
   "cell_type": "markdown",
   "id": "2d1b2bcb",
   "metadata": {},
   "source": [
    "### 폐업 데이터 삭제"
   ]
  },
  {
   "cell_type": "code",
   "execution_count": null,
   "id": "568a35c2",
   "metadata": {},
   "outputs": [],
   "source": [
    "data['TRDSTATENM'].unique()"
   ]
  },
  {
   "cell_type": "code",
   "execution_count": null,
   "id": "a54e651f",
   "metadata": {},
   "outputs": [],
   "source": [
    "fig = plt.figure()\n",
    "\n",
    "sns.countplot(data= data, x='TRDSTATENM')\n",
    "\n",
    "plt.show()"
   ]
  },
  {
   "cell_type": "code",
   "execution_count": null,
   "id": "11f514e0",
   "metadata": {},
   "outputs": [],
   "source": [
    "close_idx = data[data['TRDSTATENM'].str.contains(\"폐업\")].index\n",
    "\n",
    "data.drop(close_idx, inplace=True)"
   ]
  },
  {
   "cell_type": "code",
   "execution_count": null,
   "id": "f6e58820",
   "metadata": {},
   "outputs": [],
   "source": [
    "data.reset_index(inplace=True, drop=True)\n",
    "data"
   ]
  },
  {
   "cell_type": "markdown",
   "id": "449d6a13",
   "metadata": {},
   "source": [
    "### 저장"
   ]
  },
  {
   "cell_type": "code",
   "execution_count": null,
   "id": "cfb8961e",
   "metadata": {},
   "outputs": [],
   "source": [
    "data.to_csv('C:/worksplaces/workspace_project/project_visual/restaurant_data/data/restaurant.csv', encoding='utf-8', index=True)"
   ]
  },
  {
   "cell_type": "code",
   "execution_count": null,
   "id": "ba80d4cd",
   "metadata": {},
   "outputs": [],
   "source": []
  }
 ],
 "metadata": {
  "kernelspec": {
   "display_name": "Python 3 (ipykernel)",
   "language": "python",
   "name": "python3"
  },
  "language_info": {
   "codemirror_mode": {
    "name": "ipython",
    "version": 3
   },
   "file_extension": ".py",
   "mimetype": "text/x-python",
   "name": "python",
   "nbconvert_exporter": "python",
   "pygments_lexer": "ipython3",
   "version": "3.9.7"
  }
 },
 "nbformat": 4,
 "nbformat_minor": 5
}
