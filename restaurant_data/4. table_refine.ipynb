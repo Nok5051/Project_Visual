{
 "cells": [
  {
   "cell_type": "code",
   "execution_count": 1,
   "id": "c6f3fa9b",
   "metadata": {},
   "outputs": [],
   "source": [
    "import pandas as pd\n",
    "import numpy as np"
   ]
  },
  {
   "cell_type": "code",
   "execution_count": 34,
   "id": "01b313a2",
   "metadata": {},
   "outputs": [],
   "source": [
    "storetype = pd.read_csv(\"C:/worksplaces/workspace_project/project_visual/restaurant_data/data/storetype.csv\")\n",
    "menu = pd.read_csv(\"C:/worksplaces/workspace_project/project_visual/restaurant_data/data/menu.csv\")\n"
   ]
  },
  {
   "cell_type": "code",
   "execution_count": 35,
   "id": "e19cfd3f",
   "metadata": {},
   "outputs": [
    {
     "data": {
      "text/plain": [
       "array(['주류', '카페/디저트', '일식', '퓨전', '해산물', '양식', '중식'], dtype=object)"
      ]
     },
     "execution_count": 35,
     "metadata": {},
     "output_type": "execute_result"
    }
   ],
   "source": [
    "menu['storetype'] = storetype['storetype']\n",
    "menu['storetype'].unique()"
   ]
  },
  {
   "cell_type": "code",
   "execution_count": 36,
   "id": "07e041a0",
   "metadata": {},
   "outputs": [
    {
     "name": "stderr",
     "output_type": "stream",
     "text": [
      "C:\\Users\\wogml\\AppData\\Local\\Temp/ipykernel_30848/3085490651.py:73: FutureWarning: The default value of regex will change from True to False in a future version. In addition, single character regular expressions will *not* be treated as literal strings when regex=True.\n",
      "  menu['menu1'] = menu['menu1'].str.replace('+', ',')\n"
     ]
    }
   ],
   "source": [
    "menu['menu1_price'] = menu['menu1_price'].str.replace('변동', '99999')\n",
    "menu['menu2_price'] = menu['menu2_price'].str.replace('변동', '99999')\n",
    "menu['menu3_price'] = menu['menu3_price'].str.replace('변동', '99999')\n",
    "\n",
    "menu['menu1_price'] = menu['menu1_price'].str.replace('무료', '0')\n",
    "menu['menu2_price'] = menu['menu2_price'].str.replace('무료', '0')\n",
    "menu['menu3_price'] = menu['menu3_price'].str.replace('무료', '0')\n",
    "\n",
    "menu['menu1_price'] = menu['menu1_price'].str.replace(',', '')\n",
    "menu['menu2_price'] = menu['menu2_price'].str.replace(',', '')\n",
    "menu['menu3_price'] = menu['menu3_price'].str.replace(',', '') \n",
    "\n",
    "menu['menu2_price'] = menu['menu2_price'].replace(\"{'menu2_price': 0  'menu3_price': 0}\", 0)\n",
    "menu['menu3_price'] = menu['menu3_price'].replace(\"{'menu2_price': 0  'menu3_price': 0}\", 0)\n",
    "menu['menu2_price'] = menu['menu2_price'].replace(\"{'menu2_price': 0 , 'menu3_price': 0}\", 0)\n",
    "menu['menu3_price'] = menu['menu3_price'].replace(\"{'menu2_price': 0 , 'menu3_price': 0}\", 0)\n",
    "\n",
    "menu['menu1'] = menu['menu1'].replace(\"{'menu2_price': 0 , 'menu3_price': 0}\", 0)\n",
    "menu['menu2'] = menu['menu2'].replace(\"{'menu2_price': 0 , 'menu3_price': 0}\", 0)\n",
    "\n",
    "\n",
    "menu['menu1_price'] = menu['menu1_price'].str.replace('menu3', '0')\n",
    "\n",
    "menu['menu2_price'] = menu['menu2_price'].str.replace('C', '0')\n",
    "menu['menu3_price'] = menu['menu3_price'].str.replace('C', '0') \n",
    "\n",
    "menu['menu1'] = menu['menu1'].str.replace('®ooo•:', '')\n",
    "menu['menu2'] = menu['menu2'].str.replace('®ooo•:', '') \n",
    "menu['menu3'] = menu['menu3'].str.replace('®ooo•:', '')\n",
    "\n",
    "menu['menu1'] = menu['menu1'].str.replace('Phở ', '쌀국수')\n",
    "menu['menu2'] = menu['menu2'].str.replace('Phở ', '쌀국수') \n",
    "menu['menu3'] = menu['menu3'].str.replace('Phở ', '쌀국수')\n",
    "\n",
    "menu['menu1'] = menu['menu1'].str.replace('Gà chiên muối ớt', '')\n",
    "menu['menu2'] = menu['menu2'].str.replace('Chân gà sốt ớt', '') \n",
    "menu['menu3'] = menu['menu3'].str.replace('Chân gà sốt ớt', '')\n",
    "\n",
    "menu['menu1'] = menu['menu1'].str.replace('大', '대')\n",
    "menu['menu2'] = menu['menu2'].str.replace('大', '대')\n",
    "menu['menu3'] = menu['menu3'].str.replace('大', '대')\n",
    "\n",
    "menu['menu1'] = menu['menu1'].str.replace('中', '중')\n",
    "menu['menu2'] = menu['menu2'].str.replace('中', '중')\n",
    "menu['menu3'] = menu['menu3'].str.replace('中', '중')\n",
    "\n",
    "menu['menu1'] = menu['menu1'].str.replace('小', '소')\n",
    "menu['menu2'] = menu['menu2'].str.replace('小', '소')\n",
    "menu['menu3'] = menu['menu3'].str.replace('小', '소')\n",
    "\n",
    "menu['menu1'] = menu['menu1'].str.replace('=-', '')\n",
    "\n",
    "menu['menu1'] = menu['menu1'].str.replace('+', ',')\n",
    "menu['menu1'] = menu['menu1'].str.replace('&', '')\n",
    "menu['callnum'] = menu['callnum'].str.replace(' ', '없음')\n"
   ]
  },
  {
   "cell_type": "code",
   "execution_count": 37,
   "id": "946c09a6",
   "metadata": {},
   "outputs": [
    {
     "name": "stderr",
     "output_type": "stream",
     "text": [
      "C:\\Users\\wogml\\AppData\\Local\\Temp/ipykernel_30848/383224201.py:1: FutureWarning: The default value of regex will change from True to False in a future version.\n",
      "  menu['menu2'] = menu['menu2'].str.replace(\"{'menu2_price': 0 , 'menu3_price': 0}\", '없음')\n",
      "C:\\Users\\wogml\\AppData\\Local\\Temp/ipykernel_30848/383224201.py:2: FutureWarning: The default value of regex will change from True to False in a future version.\n",
      "  menu['menu3'] = menu['menu2'].str.replace(\"{'menu2_price': 0 , 'menu3_price': 0}\", '없음')\n"
     ]
    }
   ],
   "source": [
    "menu['menu2'] = menu['menu2'].str.replace(\"{'menu2_price': 0 , 'menu3_price': 0}\", '없음')\n",
    "menu['menu3'] = menu['menu2'].str.replace(\"{'menu2_price': 0 , 'menu3_price': 0}\", '없음')\n",
    "\n",
    "menu['menu2_price'] = menu['menu2_price'].str.replace('nan', '0') \n",
    "menu['menu3_price'] = menu['menu3_price'].str.replace('nan', '0') "
   ]
  },
  {
   "cell_type": "code",
   "execution_count": null,
   "id": "d54d4f7b",
   "metadata": {},
   "outputs": [],
   "source": [
    "menu['menu1'] = menu['menu1'].str.replace('🍊', '')\n",
    "menu['menu2'] = menu['menu2'].str.replace('🍊', '') \n",
    "menu['menu3'] = menu['menu3'].str.replace('🍊', '')\n",
    "\n",
    "menu['menu1'] = menu['menu1'].str.replace('❤️', '')\n",
    "menu['menu2'] = menu['menu2'].str.replace('❤️', '') \n",
    "menu['menu3'] = menu['menu3'].str.replace('❤️', '')\n",
    "\n",
    "menu['menu1'] = menu['menu1'].str.replace('⭐️', '')\n",
    "menu['menu2'] = menu['menu2'].str.replace('⭐️', '') \n",
    "menu['menu3'] = menu['menu3'].str.replace('⭐️', '')\n",
    "\n",
    "\n",
    "menu['menu1'] = menu['menu1'].str.replace('♦️', '')\n",
    "menu['menu2'] = menu['menu2'].str.replace('♦️', '') \n",
    "menu['menu3'] = menu['menu3'].str.replace('♦️', '')\n",
    "\n",
    "menu['menu1'] = menu['menu1'].str.replace('☆★※②', '')\n",
    "menu['menu2'] = menu['menu2'].str.replace('☆★※②', '') \n",
    "menu['menu3'] = menu['menu3'].str.replace('☆★※②', '')\n",
    "\n",
    "menu['menu1'] = menu['menu1'].str.replace('🧡', '')\n",
    "menu['menu2'] = menu['menu2'].str.replace('🧡', '') \n",
    "menu['menu3'] = menu['menu3'].str.replace('🧡', '')\n",
    "\n",
    "menu['menu1'] = menu['menu1'].str.replace('🍅', '')\n",
    "menu['menu2'] = menu['menu2'].str.replace('🍅', '') \n",
    "menu['menu3'] = menu['menu3'].str.replace('🍅', '')\n",
    "\n",
    "menu['menu1'] = menu['menu1'].str.replace('🌸', '')\n",
    "menu['menu2'] = menu['menu2'].str.replace('🌸', '') \n",
    "menu['menu3'] = menu['menu3'].str.replace('🌸', '')\n",
    "\n",
    "menu['menu1'] = menu['menu1'].str.replace('🏅', '')\n",
    "menu['menu2'] = menu['menu2'].str.replace('🏅', '') \n",
    "menu['menu3'] = menu['menu3'].str.replace('🏅', '')\n",
    "\n",
    "menu['menu1'] = menu['menu1'].str.replace('👍', '')\n",
    "menu['menu2'] = menu['menu2'].str.replace('👍', '') \n",
    "menu['menu3'] = menu['menu3'].str.replace('👍', '')\n",
    "\n",
    "menu['menu1'] = menu['menu1'].str.replace('🌟', '')\n",
    "menu['menu2'] = menu['menu2'].str.replace('🌟', '') \n",
    "menu['menu3'] = menu['menu3'].str.replace('🌟', '')\n",
    "\n",
    "menu['menu1'] = menu['menu1'].str.replace('🌶', '')\n",
    "menu['menu2'] = menu['menu2'].str.replace('🌶', '') \n",
    "menu['menu3'] = menu['menu3'].str.replace('🌶', '')\n",
    "\n",
    "menu['menu1'] = menu['menu1'].str.replace('🌯', '')\n",
    "menu['menu2'] = menu['menu2'].str.replace('🌯', '') \n",
    "menu['menu3'] = menu['menu3'].str.replace('🌯', '')\n",
    "\n",
    "menu['menu1'] = menu['menu1'].str.replace('🍋', '')\n",
    "menu['menu2'] = menu['menu2'].str.replace('🍋', '') \n",
    "menu['menu3'] = menu['menu3'].str.replace('🍋', '')\n",
    "\n",
    "menu['menu1'] = menu['menu1'].str.replace('🍤', '')\n",
    "menu['menu2'] = menu['menu2'].str.replace('🍤', '') \n",
    "menu['menu3'] = menu['menu3'].str.replace('🍤', '')\n",
    "\n",
    "menu['menu1'] = menu['menu1'].str.replace('🥦', '')\n",
    "menu['menu2'] = menu['menu2'].str.replace('🥦', '') \n",
    "menu['menu3'] = menu['menu3'].str.replace('🥦', '')\n",
    "\n",
    "menu['menu1'] = menu['menu1'].str.replace('★', '')\n",
    "menu['menu2'] = menu['menu2'].str.replace('★', '') \n",
    "menu['menu3'] = menu['menu3'].str.replace('★', '')"
   ]
  },
  {
   "cell_type": "code",
   "execution_count": 38,
   "id": "636e4c35",
   "metadata": {},
   "outputs": [],
   "source": [
    "menu['menu2'].fillna('없음', inplace=True)\n",
    "menu['menu3'].fillna('없음', inplace=True)\n",
    "\n",
    "menu['menu2_price'].fillna(0, inplace=True)\n",
    "menu['menu3_price'].fillna(0, inplace=True)"
   ]
  },
  {
   "cell_type": "code",
   "execution_count": 39,
   "id": "8bce81f3",
   "metadata": {},
   "outputs": [],
   "source": [
    "menu['menu1_price'] = pd.to_numeric(menu['menu1_price'])\n",
    "menu['menu2_price'] = pd.to_numeric(menu['menu2_price'])\n",
    "menu['menu3_price'] = pd.to_numeric(menu['menu3_price'])"
   ]
  },
  {
   "cell_type": "markdown",
   "id": "0df045dc",
   "metadata": {},
   "source": [
    "### 여기서 부터 시행하시오"
   ]
  },
  {
   "cell_type": "code",
   "execution_count": 117,
   "id": "74167d5d",
   "metadata": {},
   "outputs": [],
   "source": [
    "test = pd.read_csv(\"C:/worksplaces/workspace_project/project_visual/DB save/data/map_store.csv\")"
   ]
  },
  {
   "cell_type": "code",
   "execution_count": 118,
   "id": "9040f334",
   "metadata": {},
   "outputs": [
    {
     "data": {
      "text/plain": [
       "100000"
      ]
     },
     "execution_count": 118,
     "metadata": {},
     "output_type": "execute_result"
    }
   ],
   "source": [
    "test['menu1_price'].max()"
   ]
  },
  {
   "cell_type": "markdown",
   "id": "522d7571",
   "metadata": {},
   "source": [
    "**조건에 맞는 로우값 수정**"
   ]
  },
  {
   "cell_type": "code",
   "execution_count": 119,
   "id": "09594f9b",
   "metadata": {},
   "outputs": [],
   "source": [
    "test.loc[test.menu1_price > 100000, 'menu1_price'] = 99999\n",
    "test.loc[test.menu2_price > 100000, 'menu2_price'] = 99999\n",
    "test.loc[test.menu3_price > 100000, 'menu3_price'] = 99999"
   ]
  },
  {
   "cell_type": "markdown",
   "id": "6a812267",
   "metadata": {},
   "source": [
    "### 이모지 정리"
   ]
  },
  {
   "cell_type": "code",
   "execution_count": 120,
   "id": "b48778a5",
   "metadata": {},
   "outputs": [],
   "source": [
    "test['menu1'] = test['menu1'].str.replace('🍊', '')\n",
    "test['menu2'] = test['menu2'].str.replace('🍊', '') \n",
    "test['menu3'] = test['menu3'].str.replace('🍊', '')\n",
    "\n",
    "test['menu1'] = test['menu1'].str.replace('❤️', '')\n",
    "test['menu2'] = test['menu2'].str.replace('❤️', '') \n",
    "test['menu3'] = test['menu3'].str.replace('❤️', '')\n",
    "\n",
    "test['menu1'] = test['menu1'].str.replace('⭐️', '')\n",
    "test['menu2'] = test['menu2'].str.replace('⭐️', '') \n",
    "test['menu3'] = test['menu3'].str.replace('⭐️', '')\n",
    "\n",
    "\n",
    "test['menu1'] = test['menu1'].str.replace('♦️', '')\n",
    "test['menu2'] = test['menu2'].str.replace('♦️', '') \n",
    "test['menu3'] = test['menu3'].str.replace('♦️', '')\n",
    "\n",
    "test['menu1'] = test['menu1'].str.replace('☆★※②', '')\n",
    "test['menu2'] = test['menu2'].str.replace('☆★※②', '') \n",
    "test['menu3'] = test['menu3'].str.replace('☆★※②', '')\n",
    "\n",
    "test['menu1'] = test['menu1'].str.replace('🧡', '')\n",
    "test['menu2'] = test['menu2'].str.replace('🧡', '') \n",
    "test['menu3'] = test['menu3'].str.replace('🧡', '')\n",
    "\n",
    "test['menu1'] = test['menu1'].str.replace('🍅', '')\n",
    "test['menu2'] = test['menu2'].str.replace('🍅', '') \n",
    "test['menu3'] = test['menu3'].str.replace('🍅', '')\n",
    "\n",
    "test['menu1'] = test['menu1'].str.replace('🌸', '')\n",
    "test['menu2'] = test['menu2'].str.replace('🌸', '') \n",
    "test['menu3'] = test['menu3'].str.replace('🌸', '')\n",
    "\n",
    "test['menu1'] = test['menu1'].str.replace('🏅', '')\n",
    "test['menu2'] = test['menu2'].str.replace('🏅', '') \n",
    "test['menu3'] = test['menu3'].str.replace('🏅', '')\n",
    "\n",
    "test['menu1'] = test['menu1'].str.replace('👍', '')\n",
    "test['menu2'] = test['menu2'].str.replace('👍', '') \n",
    "test['menu3'] = test['menu3'].str.replace('👍', '')\n",
    "\n",
    "test['menu1'] = test['menu1'].str.replace('🌟', '')\n",
    "test['menu2'] = test['menu2'].str.replace('🌟', '') \n",
    "test['menu3'] = test['menu3'].str.replace('🌟', '')\n",
    "\n",
    "test['menu1'] = test['menu1'].str.replace('🌶', '')\n",
    "test['menu2'] = test['menu2'].str.replace('🌶', '') \n",
    "test['menu3'] = test['menu3'].str.replace('🌶', '')\n",
    "\n",
    "test['menu1'] = test['menu1'].str.replace('🌯', '')\n",
    "test['menu2'] = test['menu2'].str.replace('🌯', '') \n",
    "test['menu3'] = test['menu3'].str.replace('🌯', '')\n",
    "\n",
    "test['menu1'] = test['menu1'].str.replace('🍋', '')\n",
    "test['menu2'] = test['menu2'].str.replace('🍋', '') \n",
    "test['menu3'] = test['menu3'].str.replace('🍋', '')\n",
    "\n",
    "test['menu1'] = test['menu1'].str.replace('🍤', '')\n",
    "test['menu2'] = test['menu2'].str.replace('🍤', '') \n",
    "test['menu3'] = test['menu3'].str.replace('🍤', '')\n",
    "\n",
    "test['menu1'] = test['menu1'].str.replace('🥦', '')\n",
    "test['menu2'] = test['menu2'].str.replace('🥦', '') \n",
    "test['menu3'] = test['menu3'].str.replace('🥦', '')\n",
    "\n",
    "test['menu1'] = test['menu1'].str.replace('★', '')\n",
    "test['menu2'] = test['menu2'].str.replace('★', '') \n",
    "test['menu3'] = test['menu3'].str.replace('★', '')\n",
    "\n",
    "test['menu1'] = test['menu1'].str.replace('▶', '')\n",
    "test['menu2'] = test['menu2'].str.replace('▶', '') \n",
    "test['menu3'] = test['menu3'].str.replace('▶', '')\n",
    "\n",
    "test['menu1'] = test['menu1'].str.replace('☆', '')\n",
    "test['menu2'] = test['menu2'].str.replace('☆', '') \n",
    "test['menu3'] = test['menu3'].str.replace('☆', '')\n",
    "\n",
    "test['menu1'] = test['menu1'].str.replace('🥩', '')\n",
    "test['menu2'] = test['menu2'].str.replace('🥩', '') \n",
    "test['menu3'] = test['menu3'].str.replace('🥩', '')\n",
    "\n",
    "test['menu1'] = test['menu1'].str.replace('🥩', '')\n",
    "test['menu2'] = test['menu2'].str.replace('🥩', '') \n",
    "test['menu3'] = test['menu3'].str.replace('🥩', '')\n",
    "\n",
    "test['menu1'] = test['menu1'].str.replace('🍖', '')\n",
    "test['menu2'] = test['menu2'].str.replace('🍖', '') \n",
    "test['menu3'] = test['menu3'].str.replace('🍖', '')\n",
    "\n",
    "test['menu1'] = test['menu1'].str.replace('✅', '')\n",
    "test['menu2'] = test['menu2'].str.replace('✅', '') \n",
    "test['menu3'] = test['menu3'].str.replace('✅', '')\n",
    "\n",
    "test['menu1'] = test['menu1'].str.replace('🍒', '')\n",
    "test['menu2'] = test['menu2'].str.replace('🍒', '') \n",
    "test['menu3'] = test['menu3'].str.replace('🍒', '')"
   ]
  },
  {
   "cell_type": "code",
   "execution_count": 121,
   "id": "f35cf02e",
   "metadata": {},
   "outputs": [],
   "source": [
    "test['menu1'] = test['menu1'].str.replace('®oooㅇ•:', '')\n",
    "test['menu2'] = test['menu2'].str.replace('®oooㅇ•:', '') \n",
    "test['menu3'] = test['menu3'].str.replace('®oooㅇ•:', '')"
   ]
  },
  {
   "cell_type": "code",
   "execution_count": 116,
   "id": "e07c1bd3",
   "metadata": {},
   "outputs": [],
   "source": [
    "test.to_csv(\"C:/worksplaces/workspace_project/project_visual/DB save/data/map_store.csv\", index=None, encoding='utf-8-sig')"
   ]
  },
  {
   "cell_type": "code",
   "execution_count": null,
   "id": "daed5dc3",
   "metadata": {},
   "outputs": [],
   "source": []
  },
  {
   "cell_type": "code",
   "execution_count": null,
   "id": "ee6ae169",
   "metadata": {},
   "outputs": [],
   "source": []
  }
 ],
 "metadata": {
  "kernelspec": {
   "display_name": "Python 3 (ipykernel)",
   "language": "python",
   "name": "python3"
  },
  "language_info": {
   "codemirror_mode": {
    "name": "ipython",
    "version": 3
   },
   "file_extension": ".py",
   "mimetype": "text/x-python",
   "name": "python",
   "nbconvert_exporter": "python",
   "pygments_lexer": "ipython3",
   "version": "3.9.7"
  }
 },
 "nbformat": 4,
 "nbformat_minor": 5
}
