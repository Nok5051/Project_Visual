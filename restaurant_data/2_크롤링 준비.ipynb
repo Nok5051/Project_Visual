{
 "cells": [
  {
   "cell_type": "code",
   "execution_count": 1,
   "id": "3fbae664",
   "metadata": {},
   "outputs": [],
   "source": [
    "import pandas as pd\n",
    "import numpy as np\n",
    "\n",
    "import matplotlib.pyplot as plt\n",
    "import seaborn as sns\n",
    "from bs4 import BeautifulSoup\n",
    "import selenium\n",
    "import urllib.request"
   ]
  },
  {
   "cell_type": "code",
   "execution_count": 2,
   "id": "fc1c7a28",
   "metadata": {
    "scrolled": true
   },
   "outputs": [
    {
     "data": {
      "text/html": [
       "<div>\n",
       "<style scoped>\n",
       "    .dataframe tbody tr th:only-of-type {\n",
       "        vertical-align: middle;\n",
       "    }\n",
       "\n",
       "    .dataframe tbody tr th {\n",
       "        vertical-align: top;\n",
       "    }\n",
       "\n",
       "    .dataframe thead th {\n",
       "        text-align: right;\n",
       "    }\n",
       "</style>\n",
       "<table border=\"1\" class=\"dataframe\">\n",
       "  <thead>\n",
       "    <tr style=\"text-align: right;\">\n",
       "      <th></th>\n",
       "      <th>BPLCNM</th>\n",
       "      <th>TRDSTATENM</th>\n",
       "      <th>SITEPOSTNO</th>\n",
       "      <th>SITEWHLADDR</th>\n",
       "      <th>RDNWHLADDR</th>\n",
       "      <th>X</th>\n",
       "      <th>Y</th>\n",
       "    </tr>\n",
       "  </thead>\n",
       "  <tbody>\n",
       "    <tr>\n",
       "      <th>0</th>\n",
       "      <td>북악파크부페</td>\n",
       "      <td>영업/정상</td>\n",
       "      <td>110846.0</td>\n",
       "      <td>서울특별시 종로구 평창동 110-1번지</td>\n",
       "      <td>서울특별시 종로구 평창길 352 (평창동)</td>\n",
       "      <td>197993.205677</td>\n",
       "      <td>456584.627065</td>\n",
       "    </tr>\n",
       "    <tr>\n",
       "      <th>1</th>\n",
       "      <td>시민식당 2호점</td>\n",
       "      <td>영업/정상</td>\n",
       "      <td>110290.0</td>\n",
       "      <td>서울특별시 종로구 인사동 98번지</td>\n",
       "      <td>서울특별시 종로구 종로11길 10, 1,2층 (인사동)</td>\n",
       "      <td>198681.571899</td>\n",
       "      <td>452050.274345</td>\n",
       "    </tr>\n",
       "    <tr>\n",
       "      <th>2</th>\n",
       "      <td>일번우동</td>\n",
       "      <td>영업/정상</td>\n",
       "      <td>110126.0</td>\n",
       "      <td>서울특별시 종로구 종로6가 129-1번지</td>\n",
       "      <td>서울특별시 종로구 종로41길 10 (종로6가)</td>\n",
       "      <td>200533.453584</td>\n",
       "      <td>452156.900283</td>\n",
       "    </tr>\n",
       "    <tr>\n",
       "      <th>3</th>\n",
       "      <td>서촌소국밥</td>\n",
       "      <td>영업/정상</td>\n",
       "      <td>110043.0</td>\n",
       "      <td>서울특별시 종로구 통인동 27-2</td>\n",
       "      <td>서울특별시 종로구 필운대로6길 17-1 (통인동)</td>\n",
       "      <td>197250.385438</td>\n",
       "      <td>453135.451266</td>\n",
       "    </tr>\n",
       "    <tr>\n",
       "      <th>4</th>\n",
       "      <td>빽다방 동대문역점</td>\n",
       "      <td>영업/정상</td>\n",
       "      <td>110843.0</td>\n",
       "      <td>서울특별시 종로구 창신동 696-1</td>\n",
       "      <td>서울특별시 종로구 종로 289 (창신동)</td>\n",
       "      <td>200811.925354</td>\n",
       "      <td>452162.569488</td>\n",
       "    </tr>\n",
       "    <tr>\n",
       "      <th>...</th>\n",
       "      <td>...</td>\n",
       "      <td>...</td>\n",
       "      <td>...</td>\n",
       "      <td>...</td>\n",
       "      <td>...</td>\n",
       "      <td>...</td>\n",
       "      <td>...</td>\n",
       "    </tr>\n",
       "    <tr>\n",
       "      <th>124905</th>\n",
       "      <td>20bucks</td>\n",
       "      <td>영업/정상</td>\n",
       "      <td>130831.0</td>\n",
       "      <td>서울특별시 동대문구 이문동 316-2 지하1층</td>\n",
       "      <td>서울특별시 동대문구 휘경로2길 19, 지하1층 (이문동)</td>\n",
       "      <td>205294.170617</td>\n",
       "      <td>454765.261112</td>\n",
       "    </tr>\n",
       "    <tr>\n",
       "      <th>124906</th>\n",
       "      <td>DNJ</td>\n",
       "      <td>영업/정상</td>\n",
       "      <td>139230.0</td>\n",
       "      <td>서울특별시 노원구 하계동 256-11 보스턴 산부인과</td>\n",
       "      <td>서울특별시 노원구 노원로 244, 보스턴 산부인과 1층 (하계동)</td>\n",
       "      <td>206490.594308</td>\n",
       "      <td>459688.060943</td>\n",
       "    </tr>\n",
       "    <tr>\n",
       "      <th>124907</th>\n",
       "      <td>희래등반점</td>\n",
       "      <td>영업/정상</td>\n",
       "      <td>110811.0</td>\n",
       "      <td>서울특별시 종로구 명륜3가 1-14</td>\n",
       "      <td>서울특별시 종로구 명륜길 31 (명륜3가)</td>\n",
       "      <td>199506.183606</td>\n",
       "      <td>454029.397330</td>\n",
       "    </tr>\n",
       "    <tr>\n",
       "      <th>124908</th>\n",
       "      <td>별달맛집</td>\n",
       "      <td>영업/정상</td>\n",
       "      <td>135894.0</td>\n",
       "      <td>서울특별시 강남구 신사동 609-1 지하1층</td>\n",
       "      <td>서울특별시 강남구 압구정로30길 23 (신사동,지하1층)</td>\n",
       "      <td>202534.550000</td>\n",
       "      <td>447079.205000</td>\n",
       "    </tr>\n",
       "    <tr>\n",
       "      <th>124909</th>\n",
       "      <td>메가엠지씨커피 신용산역점</td>\n",
       "      <td>영업/정상</td>\n",
       "      <td>140872.0</td>\n",
       "      <td>서울특별시 용산구 한강로2가 116-1 1층</td>\n",
       "      <td>서울특별시 용산구 한강대로 130-3, 1층 (한강로2가)</td>\n",
       "      <td>197277.862973</td>\n",
       "      <td>447641.450493</td>\n",
       "    </tr>\n",
       "  </tbody>\n",
       "</table>\n",
       "<p>124910 rows × 7 columns</p>\n",
       "</div>"
      ],
      "text/plain": [
       "               BPLCNM TRDSTATENM  SITEPOSTNO                    SITEWHLADDR  \\\n",
       "0              북악파크부페      영업/정상    110846.0          서울특별시 종로구 평창동 110-1번지   \n",
       "1            시민식당 2호점      영업/정상    110290.0             서울특별시 종로구 인사동 98번지   \n",
       "2                일번우동      영업/정상    110126.0         서울특별시 종로구 종로6가 129-1번지   \n",
       "3               서촌소국밥      영업/정상    110043.0             서울특별시 종로구 통인동 27-2   \n",
       "4           빽다방 동대문역점      영업/정상    110843.0            서울특별시 종로구 창신동 696-1   \n",
       "...               ...        ...         ...                            ...   \n",
       "124905        20bucks      영업/정상    130831.0      서울특별시 동대문구 이문동 316-2 지하1층   \n",
       "124906            DNJ      영업/정상    139230.0  서울특별시 노원구 하계동 256-11 보스턴 산부인과   \n",
       "124907          희래등반점      영업/정상    110811.0            서울특별시 종로구 명륜3가 1-14   \n",
       "124908           별달맛집      영업/정상    135894.0       서울특별시 강남구 신사동 609-1 지하1층   \n",
       "124909  메가엠지씨커피 신용산역점      영업/정상    140872.0       서울특별시 용산구 한강로2가 116-1 1층   \n",
       "\n",
       "                                  RDNWHLADDR              X              Y  \n",
       "0                    서울특별시 종로구 평창길 352 (평창동)  197993.205677  456584.627065  \n",
       "1             서울특별시 종로구 종로11길 10, 1,2층 (인사동)  198681.571899  452050.274345  \n",
       "2                  서울특별시 종로구 종로41길 10 (종로6가)  200533.453584  452156.900283  \n",
       "3                서울특별시 종로구 필운대로6길 17-1 (통인동)  197250.385438  453135.451266  \n",
       "4                     서울특별시 종로구 종로 289 (창신동)  200811.925354  452162.569488  \n",
       "...                                      ...            ...            ...  \n",
       "124905       서울특별시 동대문구 휘경로2길 19, 지하1층 (이문동)  205294.170617  454765.261112  \n",
       "124906  서울특별시 노원구 노원로 244, 보스턴 산부인과 1층 (하계동)  206490.594308  459688.060943  \n",
       "124907               서울특별시 종로구 명륜길 31 (명륜3가)  199506.183606  454029.397330  \n",
       "124908       서울특별시 강남구 압구정로30길 23 (신사동,지하1층)  202534.550000  447079.205000  \n",
       "124909      서울특별시 용산구 한강대로 130-3, 1층 (한강로2가)  197277.862973  447641.450493  \n",
       "\n",
       "[124910 rows x 7 columns]"
      ]
     },
     "execution_count": 2,
     "metadata": {},
     "output_type": "execute_result"
    }
   ],
   "source": [
    "df = pd.read_csv(\"C:/worksplaces/workspace_project/project_visual/restaurant_data/data/restaurant.csv\", encoding=\"utf-8\", index_col=0)\n",
    "df"
   ]
  },
  {
   "cell_type": "code",
   "execution_count": 3,
   "id": "8ff568a5",
   "metadata": {
    "scrolled": true
   },
   "outputs": [
    {
     "data": {
      "text/plain": [
       "BPLCNM            1\n",
       "TRDSTATENM        0\n",
       "SITEPOSTNO       80\n",
       "SITEWHLADDR      80\n",
       "RDNWHLADDR     1660\n",
       "X              1880\n",
       "Y              1880\n",
       "dtype: int64"
      ]
     },
     "execution_count": 3,
     "metadata": {},
     "output_type": "execute_result"
    }
   ],
   "source": [
    "df.isnull().sum()"
   ]
  },
  {
   "cell_type": "markdown",
   "id": "bb49faf8",
   "metadata": {},
   "source": [
    "### Null 값 처리 어떻게 할지 고민해보자\n",
    "- BPLCNM 없는 로우의 주소를 검색해서 입력해주자\n",
    "- SITEPOSTNO 칼럼은 필요없음 \n",
    "- SITEWHLADDR에서 없는 데이터는 RDNWHLADDR 데이터에 있을까 (또는 반대)\n",
    "- X와 Y에 없는 데이터의 위경도 가져오는 법?\n",
    "- X와 Y가 없는 데이터의 주소는 다 있는 건가?"
   ]
  },
  {
   "cell_type": "code",
   "execution_count": 4,
   "id": "90479238",
   "metadata": {},
   "outputs": [
    {
     "data": {
      "text/html": [
       "<div>\n",
       "<style scoped>\n",
       "    .dataframe tbody tr th:only-of-type {\n",
       "        vertical-align: middle;\n",
       "    }\n",
       "\n",
       "    .dataframe tbody tr th {\n",
       "        vertical-align: top;\n",
       "    }\n",
       "\n",
       "    .dataframe thead th {\n",
       "        text-align: right;\n",
       "    }\n",
       "</style>\n",
       "<table border=\"1\" class=\"dataframe\">\n",
       "  <thead>\n",
       "    <tr style=\"text-align: right;\">\n",
       "      <th></th>\n",
       "      <th>BPLCNM</th>\n",
       "      <th>TRDSTATENM</th>\n",
       "      <th>SITEPOSTNO</th>\n",
       "      <th>SITEWHLADDR</th>\n",
       "      <th>RDNWHLADDR</th>\n",
       "      <th>X</th>\n",
       "      <th>Y</th>\n",
       "    </tr>\n",
       "  </thead>\n",
       "  <tbody>\n",
       "    <tr>\n",
       "      <th>10449</th>\n",
       "      <td>엔에이</td>\n",
       "      <td>영업/정상</td>\n",
       "      <td>100848.0</td>\n",
       "      <td>서울특별시 중구 을지로4가 35번지 2층</td>\n",
       "      <td>서울특별시 중구 창경궁로5길 27, 2층 (을지로4가)</td>\n",
       "      <td>199614.974362</td>\n",
       "      <td>451625.623159</td>\n",
       "    </tr>\n",
       "  </tbody>\n",
       "</table>\n",
       "</div>"
      ],
      "text/plain": [
       "      BPLCNM TRDSTATENM  SITEPOSTNO             SITEWHLADDR  \\\n",
       "10449    엔에이      영업/정상    100848.0  서울특별시 중구 을지로4가 35번지 2층   \n",
       "\n",
       "                           RDNWHLADDR              X              Y  \n",
       "10449  서울특별시 중구 창경궁로5길 27, 2층 (을지로4가)  199614.974362  451625.623159  "
      ]
     },
     "execution_count": 4,
     "metadata": {},
     "output_type": "execute_result"
    }
   ],
   "source": [
    "nm_null = df[df['BPLCNM'].isnull()].index\n",
    "\n",
    "df.iloc[nm_null, 0] = ('엔에이')\n",
    "df.iloc[nm_null]"
   ]
  },
  {
   "cell_type": "code",
   "execution_count": 5,
   "id": "722a9df8",
   "metadata": {},
   "outputs": [
    {
     "data": {
      "text/html": [
       "<div>\n",
       "<style scoped>\n",
       "    .dataframe tbody tr th:only-of-type {\n",
       "        vertical-align: middle;\n",
       "    }\n",
       "\n",
       "    .dataframe tbody tr th {\n",
       "        vertical-align: top;\n",
       "    }\n",
       "\n",
       "    .dataframe thead th {\n",
       "        text-align: right;\n",
       "    }\n",
       "</style>\n",
       "<table border=\"1\" class=\"dataframe\">\n",
       "  <thead>\n",
       "    <tr style=\"text-align: right;\">\n",
       "      <th></th>\n",
       "      <th>BPLCNM</th>\n",
       "      <th>TRDSTATENM</th>\n",
       "      <th>SITEPOSTNO</th>\n",
       "      <th>SITEWHLADDR</th>\n",
       "      <th>RDNWHLADDR</th>\n",
       "      <th>X</th>\n",
       "      <th>Y</th>\n",
       "    </tr>\n",
       "  </thead>\n",
       "  <tbody>\n",
       "  </tbody>\n",
       "</table>\n",
       "</div>"
      ],
      "text/plain": [
       "Empty DataFrame\n",
       "Columns: [BPLCNM, TRDSTATENM, SITEPOSTNO, SITEWHLADDR, RDNWHLADDR, X, Y]\n",
       "Index: []"
      ]
     },
     "execution_count": 5,
     "metadata": {},
     "output_type": "execute_result"
    }
   ],
   "source": [
    "df[(df['SITEWHLADDR'].isnull()) & (df['RDNWHLADDR'].isnull())]"
   ]
  },
  {
   "cell_type": "markdown",
   "id": "2091cdee",
   "metadata": {},
   "source": [
    "> df['SITEWHLADDR'] 이 null이면서 df['RDNWHLADDR']이 null 인 값은 없음"
   ]
  },
  {
   "cell_type": "code",
   "execution_count": 6,
   "id": "a39aeb36",
   "metadata": {},
   "outputs": [],
   "source": [
    "addr_null = df[df['SITEWHLADDR'].isnull()].index"
   ]
  },
  {
   "cell_type": "code",
   "execution_count": 7,
   "id": "6c6c317a",
   "metadata": {},
   "outputs": [],
   "source": [
    "df['SITEWHLADDR'] = np.where(pd.notnull(df['SITEWHLADDR']) == True, df['SITEWHLADDR'], df['RDNWHLADDR'])"
   ]
  },
  {
   "cell_type": "code",
   "execution_count": 8,
   "id": "9e32403e",
   "metadata": {},
   "outputs": [
    {
     "data": {
      "text/plain": [
       "BPLCNM            0\n",
       "TRDSTATENM        0\n",
       "SITEPOSTNO       80\n",
       "SITEWHLADDR       0\n",
       "RDNWHLADDR     1660\n",
       "X              1880\n",
       "Y              1880\n",
       "dtype: int64"
      ]
     },
     "execution_count": 8,
     "metadata": {},
     "output_type": "execute_result"
    }
   ],
   "source": [
    "df.isnull().sum()"
   ]
  },
  {
   "cell_type": "code",
   "execution_count": 9,
   "id": "f92b240d",
   "metadata": {},
   "outputs": [],
   "source": [
    "df['BPLCNM'].replace('메가엠지씨커피', '메가커피', inplace=True)"
   ]
  },
  {
   "cell_type": "code",
   "execution_count": 11,
   "id": "de280f8a",
   "metadata": {},
   "outputs": [],
   "source": [
    "df['BPLCNM'].replace('꾸쁘(Coupe)', '라꾸쁘', inplace=True)\n",
    "df['BPLCNM'].replace('메가커피 우장산점', '메가커피 우장산역점', inplace=True)"
   ]
  },
  {
   "cell_type": "markdown",
   "id": "9ee4ed52",
   "metadata": {},
   "source": [
    "\n",
    "### 1"
   ]
  },
  {
   "cell_type": "code",
   "execution_count": 12,
   "id": "3b12f5b1",
   "metadata": {},
   "outputs": [],
   "source": [
    "craw_data = df[['BPLCNM', 'SITEWHLADDR', 'RDNWHLADDR']]"
   ]
  },
  {
   "cell_type": "code",
   "execution_count": 13,
   "id": "da862aa5",
   "metadata": {},
   "outputs": [
    {
     "name": "stderr",
     "output_type": "stream",
     "text": [
      "C:\\Users\\wogml\\AppData\\Local\\Temp/ipykernel_10640/739233450.py:1: SettingWithCopyWarning: \n",
      "A value is trying to be set on a copy of a slice from a DataFrame.\n",
      "Try using .loc[row_indexer,col_indexer] = value instead\n",
      "\n",
      "See the caveats in the documentation: https://pandas.pydata.org/pandas-docs/stable/user_guide/indexing.html#returning-a-view-versus-a-copy\n",
      "  craw_data['Gu'] = craw_data.SITEWHLADDR.str.split(' ').str[1]\n",
      "C:\\Users\\wogml\\AppData\\Local\\Temp/ipykernel_10640/739233450.py:2: SettingWithCopyWarning: \n",
      "A value is trying to be set on a copy of a slice from a DataFrame.\n",
      "Try using .loc[row_indexer,col_indexer] = value instead\n",
      "\n",
      "See the caveats in the documentation: https://pandas.pydata.org/pandas-docs/stable/user_guide/indexing.html#returning-a-view-versus-a-copy\n",
      "  craw_data['Dong'] = craw_data.SITEWHLADDR.str.split(' ').str[2]\n"
     ]
    }
   ],
   "source": [
    "craw_data['Gu'] = craw_data.SITEWHLADDR.str.split(' ').str[1]\n",
    "craw_data['Dong'] = craw_data.SITEWHLADDR.str.split(' ').str[2]"
   ]
  },
  {
   "cell_type": "code",
   "execution_count": 14,
   "id": "768fe0e0",
   "metadata": {
    "scrolled": true
   },
   "outputs": [],
   "source": [
    "craw_data = craw_data[['Gu', 'Dong', 'BPLCNM']]\n",
    "address = craw_data['Gu'] + \" \" + craw_data['Dong'] + \" \" + craw_data['BPLCNM']"
   ]
  },
  {
   "cell_type": "code",
   "execution_count": 16,
   "id": "8482ceae",
   "metadata": {},
   "outputs": [],
   "source": [
    "craw_list = list(craw_data['BPLCNM'].unique())"
   ]
  },
  {
   "cell_type": "code",
   "execution_count": 17,
   "id": "f4685a87",
   "metadata": {},
   "outputs": [],
   "source": [
    "address_list = list(address)\n",
    "#print(address_list)"
   ]
  },
  {
   "cell_type": "code",
   "execution_count": 19,
   "id": "478909a2",
   "metadata": {},
   "outputs": [],
   "source": [
    "row_data = {'address' : address_list}\n",
    "rest_add = pd.DataFrame(row_data)"
   ]
  },
  {
   "cell_type": "markdown",
   "id": "1c4a7f34",
   "metadata": {},
   "source": [
    "# 크롤링\n"
   ]
  },
  {
   "cell_type": "markdown",
   "id": "023a4c60",
   "metadata": {},
   "source": [
    "selenium<br>\n",
    "https://0433.tistory.com/41"
   ]
  },
  {
   "cell_type": "code",
   "execution_count": 21,
   "id": "cfc86183",
   "metadata": {},
   "outputs": [],
   "source": [
    "import requests\n",
    "from bs4 import BeautifulSoup\n",
    "from selenium import webdriver\n",
    "from time import sleep\n",
    "from tqdm import tqdm"
   ]
  },
  {
   "cell_type": "markdown",
   "id": "6767ef4d",
   "metadata": {},
   "source": [
    "**selenium test**"
   ]
  },
  {
   "cell_type": "code",
   "execution_count": 22,
   "id": "0f12d4c2",
   "metadata": {},
   "outputs": [
    {
     "name": "stderr",
     "output_type": "stream",
     "text": [
      "C:\\Users\\wogml\\AppData\\Local\\Temp/ipykernel_10640/1800054280.py:3: DeprecationWarning: executable_path has been deprecated, please pass in a Service object\n",
      "  driver = webdriver.Chrome('C:/worksplaces/workspace_project/project_visual/drivers/chromedriver.exe')\n"
     ]
    }
   ],
   "source": [
    "target_url = 'https://search.naver.com/search.naver?sm=tab_sly.hst&where=nexearch&query=종로구%20통인동%20서촌소국밥'\n",
    "\n",
    "driver = webdriver.Chrome('C:/worksplaces/workspace_project/project_visual/drivers/chromedriver.exe')\n",
    "\n",
    "driver.get(target_url)\n",
    "sleep(1)\n",
    "#driver.find_element_by_xpath('//*[@id=\"_title\"]/a').click()"
   ]
  },
  {
   "cell_type": "markdown",
   "id": "46e0927a",
   "metadata": {},
   "source": [
    "**beautifulsoup test**\n",
    "\n",
    "내일 하자 !!! \n",
    "메뉴 나누기"
   ]
  },
  {
   "cell_type": "code",
   "execution_count": 23,
   "id": "33360f96",
   "metadata": {},
   "outputs": [
    {
     "name": "stdout",
     "output_type": "stream",
     "text": [
      "[{'address': '종로구 통인동 서촌소국밥', 'storename': '실비집', 'storetype': '전,빈대떡', 'telephone': '010-8835-5294', 'menu': ['모듬전(2인) 5,000', '김치찌게(2인) 5,000']}]\n"
     ]
    }
   ],
   "source": [
    "target_url = 'https://search.naver.com/search.naver?sm=tab_sly.hst&where=nexearch&query=종로구+창신동+실비집'\n",
    "\n",
    "result = []\n",
    "tmp = dict()\n",
    "\n",
    "resp = requests.get(target_url)\n",
    "soup = BeautifulSoup(resp.text, 'html.parser')\n",
    "\n",
    "tmp['address'] = address_list[3]\n",
    "\n",
    "if soup.find('span', {'class':'_3XamX'}):\n",
    "    bistro_nm = soup.find('span', {'class':'_3XamX'}).text\n",
    "    bistro_fd = soup.find('span', {'class':'_3ocDE'}).text\n",
    "    bistro_tel = soup.find('span', {'class':'_3ZA0S'}).text\n",
    "\n",
    "    tmp['storename'] = bistro_nm\n",
    "    tmp['storetype'] = bistro_fd\n",
    "    tmp['telephone'] = bistro_tel\n",
    "    \n",
    "elif soup.find('span', {'class':'place_bluelink _1RlVL'}):\n",
    "    if len(soup.find_all('mark')) <= 2:\n",
    "        \n",
    "        bistro_nm1 = soup.find_all('mark')\n",
    "        tmp['storename'] = bistro_nm1[0].text + bistro_nm1[1].text\n",
    "        \n",
    "    \n",
    "    elif soup.find('mark'):\n",
    "        bistro_nm2 = soup.find('mark')\n",
    "        tmp['storename'] = bistro_nm2.text\n",
    "    \n",
    "    else:\n",
    "        pass\n",
    "    \n",
    "    bistro_fd = soup.find('span', {'class':'_1tj6W'}).text\n",
    "    tmp['storetype'] = bistro_fd\n",
    "\n",
    "        \n",
    "    \n",
    "\n",
    "if soup.find('ul', {'class':'_1WK4L _2EEOB'}):\n",
    "    \n",
    "    menu_div1 = soup.find('ul', {'class':'_1WK4L _2EEOB'})\n",
    "    menu_list1 = menu_div1.select('li')\n",
    "\n",
    "    menu_lst1 = []\n",
    "\n",
    "    for chd1 in menu_list1:\n",
    "\n",
    "        menu_nm1 = chd1.find('a').string\n",
    "        price1 = chd1.find('div', {'class':'_18uV7'}).text\n",
    "\n",
    "        menu_lst1.append(menu_nm1 + \" \" + price1)\n",
    "\n",
    "        tmp['menu'] = menu_lst1\n",
    "    \n",
    "    result.append(tmp)\n",
    "\n",
    "    \n",
    "elif soup.find('ul', {'class':'V1UmJ Zew_k'}):\n",
    "    \n",
    "    menu_div2 = soup.find('ul', {'class':'V1UmJ Zew_k'})\n",
    "    menu_list2 = menu_div2.select('li')\n",
    "    \n",
    "    menu_lst2 = []\n",
    "    \n",
    "    for chd2 in menu_list2:\n",
    "        menu_nm2 = chd2.find('a').text\n",
    "        price2 = chd2.find('em').text\n",
    "        \n",
    "        menu_lst2.append(menu_nm2 + \" \" + price2)\n",
    "        \n",
    "        tmp['menu'] = menu_lst2\n",
    "        \n",
    "    result.append(tmp) \n",
    "    \n",
    "elif soup.find('div', {'class':'_1mAZf'}):\n",
    "    menu_span = soup.find_all('span', {'class':'_1TRlX'})\n",
    "    \n",
    "    menu_lst3 = []\n",
    "    #print(menu_div3)\n",
    "    \n",
    "    tmp['telephone'] = menu_span[0].text\n",
    "    \n",
    "    menu_lst3.append(menu_span[-2].text)\n",
    "    menu_lst3.append(menu_span[-1].text)\n",
    "    \n",
    "    tmp['menu'] = menu_lst3\n",
    "    \n",
    "    \n",
    "    result.append(tmp)\n",
    "        \n",
    "    \n",
    "        \n",
    "        \n",
    "        \n",
    "print(result)"
   ]
  },
  {
   "cell_type": "code",
   "execution_count": 24,
   "id": "88d06ea0",
   "metadata": {},
   "outputs": [],
   "source": [
    "test_list = address_list[:100]"
   ]
  },
  {
   "cell_type": "code",
   "execution_count": 25,
   "id": "58a57850",
   "metadata": {},
   "outputs": [
    {
     "data": {
      "text/plain": [
       "124910"
      ]
     },
     "execution_count": 25,
     "metadata": {},
     "output_type": "execute_result"
    }
   ],
   "source": [
    "len(address_list)"
   ]
  },
  {
   "cell_type": "code",
   "execution_count": 26,
   "id": "b4d6a58f",
   "metadata": {},
   "outputs": [],
   "source": [
    "###백업용 "
   ]
  },
  {
   "cell_type": "code",
   "execution_count": 27,
   "id": "13fde36e",
   "metadata": {},
   "outputs": [],
   "source": [
    "result = []\n",
    "\n",
    "def open_browser(address_list):\n",
    "    \n",
    "    for i in tqdm(range(len(address_list) )):\n",
    "        \n",
    "        target_url = 'https://search.naver.com/search.naver?sm=tab_sly.hst&where=nexearch&query='\n",
    "\n",
    "        url = target_url + address_list[i]\n",
    "        \n",
    "        resp = requests.get(url)\n",
    "        soup = BeautifulSoup(resp.text, 'html.parser')\n",
    "        \n",
    "        try:\n",
    "            # storename\n",
    "            bistro_nm = soup.find('span', {'class':'_3XamX'}).text\n",
    "            # storetype\n",
    "            bistro_fd = soup.find('span', {'class':'_3ocDE'}).text\n",
    "\n",
    "            tmp = dict()\n",
    "            tmp['storeaddr'] = address_list[i]\n",
    "            tmp['storename'] = bistro_nm\n",
    "            tmp['storetype'] = bistro_fd\n",
    "\n",
    "        \n",
    "            # 전화번호 \n",
    "            try:\n",
    "                bistro_tel = soup.find('span', {'class':'_3ZA0S'}).text\n",
    "                tmp['callnum'] = bistro_tel\n",
    "\n",
    "            except:\n",
    "                tmp['callnum'] = ' '\n",
    "\n",
    "                \n",
    "                \n",
    "            if soup.find('ul', {'class':'_1WK4L _2EEOB'}):\n",
    "\n",
    "                try: \n",
    "                    menu_div = soup.find('ul', {'class':'_1WK4L _2EEOB'})\n",
    "                    menu_list = menu_div.select('li')\n",
    "\n",
    "                    menu_lst = []\n",
    "\n",
    "                  # 메뉴\n",
    "                    for chd in menu_list:\n",
    "                        menu_nm = chd.find('a').text\n",
    "                        price = chd.find('div', {'class':'_18uV7'}).text\n",
    "\n",
    "                        menu_lst.append(menu_nm + \" \" + price)\n",
    "                        tmp['menu'] = menu_lst\n",
    "\n",
    "                    result.append(tmp)\n",
    "\n",
    "                except:\n",
    "                    pass\n",
    "\n",
    "\n",
    "            elif soup.find('ul', {'class':'V1UmJ Zew_k'}):\n",
    "                try:  \n",
    "                    menu_div2 = soup.find('ul', {'class':'V1UmJ Zew_k'})\n",
    "                    menu_list2 = menu_div2.select('li')\n",
    "\n",
    "                    menu_lst2 = []\n",
    "\n",
    "                    for chd2 in menu_list2:\n",
    "                        menu_nm2 = chd2.find('a').text\n",
    "                        price2 = chd2.find('em').text\n",
    "\n",
    "                        menu_lst2.append(menu_nm2 + \" \" + price2)\n",
    "\n",
    "                        tmp['menu'] = menu_lst2\n",
    "\n",
    "                    result.append(tmp) \n",
    "\n",
    "                except:\n",
    "                    pass\n",
    "            \n",
    "            else: \n",
    "                pass\n",
    "            \n",
    "        \n",
    "        except: \n",
    "            pass\n",
    "            \n",
    "        "
   ]
  },
  {
   "cell_type": "code",
   "execution_count": 31,
   "id": "b3a1c57d",
   "metadata": {},
   "outputs": [
    {
     "name": "stderr",
     "output_type": "stream",
     "text": [
      "100%|███████████████████████████████████████████████████████████████████████| 124910/124910 [19:08:22<00:00,  1.81it/s]\n"
     ]
    }
   ],
   "source": [
    "open_browser(address_list)"
   ]
  },
  {
   "cell_type": "code",
   "execution_count": 379,
   "id": "8b62b3ee",
   "metadata": {},
   "outputs": [],
   "source": [
    "result_df = pd.DataFrame(result)"
   ]
  },
  {
   "cell_type": "code",
   "execution_count": 380,
   "id": "69a4cab2",
   "metadata": {},
   "outputs": [
    {
     "data": {
      "text/html": [
       "<div>\n",
       "<style scoped>\n",
       "    .dataframe tbody tr th:only-of-type {\n",
       "        vertical-align: middle;\n",
       "    }\n",
       "\n",
       "    .dataframe tbody tr th {\n",
       "        vertical-align: top;\n",
       "    }\n",
       "\n",
       "    .dataframe thead th {\n",
       "        text-align: right;\n",
       "    }\n",
       "</style>\n",
       "<table border=\"1\" class=\"dataframe\">\n",
       "  <thead>\n",
       "    <tr style=\"text-align: right;\">\n",
       "      <th></th>\n",
       "      <th>storeaddr</th>\n",
       "      <th>storename</th>\n",
       "      <th>storetype</th>\n",
       "      <th>callnum</th>\n",
       "      <th>menu</th>\n",
       "    </tr>\n",
       "  </thead>\n",
       "  <tbody>\n",
       "    <tr>\n",
       "      <th>0</th>\n",
       "      <td>종로구 통인동 서촌소국밥</td>\n",
       "      <td>서촌소국밥</td>\n",
       "      <td>한식</td>\n",
       "      <td>070-8885-7677</td>\n",
       "      <td>[소머리국밥 12,000원, 제육볶음 10,000원, 사골만두국 10,000원]</td>\n",
       "    </tr>\n",
       "    <tr>\n",
       "      <th>1</th>\n",
       "      <td>종로구 창신동 빽다방 동대문역점</td>\n",
       "      <td>빽다방 동대문역점</td>\n",
       "      <td>테이크아웃커피</td>\n",
       "      <td>0507-1341-0950</td>\n",
       "      <td>[아메리카노HOT 1,500원, 아메리카노ICE 2,000원, 더블에스프레소 1,5...</td>\n",
       "    </tr>\n",
       "    <tr>\n",
       "      <th>2</th>\n",
       "      <td>종로구 소격동 주식회사 가배도 삼청</td>\n",
       "      <td>가배도 삼청</td>\n",
       "      <td>카페</td>\n",
       "      <td>02-732-4542</td>\n",
       "      <td>[말차 라떼 6,500원, 티라미수(일반/말차/얼그레이) 7,000원, 가배 4,9...</td>\n",
       "    </tr>\n",
       "    <tr>\n",
       "      <th>3</th>\n",
       "      <td>종로구 충신동 기생</td>\n",
       "      <td>기생</td>\n",
       "      <td>우동,소바</td>\n",
       "      <td></td>\n",
       "      <td>[우동 12,000원, 고기채소나베 12,000원, 오뎅채소나베 12,000원]</td>\n",
       "    </tr>\n",
       "    <tr>\n",
       "      <th>4</th>\n",
       "      <td>종로구 무악동 상구네백반</td>\n",
       "      <td>상구네집</td>\n",
       "      <td>백반,가정식</td>\n",
       "      <td>0507-1325-5324</td>\n",
       "      <td>[코다리찜 소 20,000원, 올갱이해장국 10,000원, 북어콩나물해장국 8,000원]</td>\n",
       "    </tr>\n",
       "    <tr>\n",
       "      <th>...</th>\n",
       "      <td>...</td>\n",
       "      <td>...</td>\n",
       "      <td>...</td>\n",
       "      <td>...</td>\n",
       "      <td>...</td>\n",
       "    </tr>\n",
       "    <tr>\n",
       "      <th>42324</th>\n",
       "      <td>광진구 화양동 매드쉐프떡볶이</td>\n",
       "      <td>매드쉐프 떡볶이</td>\n",
       "      <td>떡볶이</td>\n",
       "      <td>0507-1325-2388</td>\n",
       "      <td>[매드쉐프 떡볶이 7,000원, 오징어튀김 3,600원, 왕새우튀김 4,000원]</td>\n",
       "    </tr>\n",
       "    <tr>\n",
       "      <th>42325</th>\n",
       "      <td>강서구 화곡동 예담골남원추어탕</td>\n",
       "      <td>예담골남원추어탕</td>\n",
       "      <td>추어탕</td>\n",
       "      <td>02-2646-8002</td>\n",
       "      <td>[추어탕+돌솥 8,000원, 통추어탕+돌솥 9,000원, 우렁추어탕+돌솥 10,00...</td>\n",
       "    </tr>\n",
       "    <tr>\n",
       "      <th>42326</th>\n",
       "      <td>서초구 잠원동 오공복이 논현역점</td>\n",
       "      <td>오공복이 논현역점</td>\n",
       "      <td>한식</td>\n",
       "      <td>0507-1416-6616</td>\n",
       "      <td>[스테이크덮밥 11,000원, 호르몬동 10,900원, 명란계란버터밥 7,500원,...</td>\n",
       "    </tr>\n",
       "    <tr>\n",
       "      <th>42327</th>\n",
       "      <td>마포구 도화동 옛날불고기 대상</td>\n",
       "      <td>대상 옛날불고기</td>\n",
       "      <td>한식</td>\n",
       "      <td>02-702-3391</td>\n",
       "      <td>[옛날불고기 13,000원, 뭉티기 육사시미 29,000원, 뭉티기 육회 29,000원]</td>\n",
       "    </tr>\n",
       "    <tr>\n",
       "      <th>42328</th>\n",
       "      <td>종로구 명륜3가 희래등반점</td>\n",
       "      <td>희래등 반점 성대2호점</td>\n",
       "      <td>중식당</td>\n",
       "      <td>0507-1435-5544</td>\n",
       "      <td>[계란볶음밥(蛋炒饭） 6,000원, 마라탕(麻辣烫） 7,000원, 산라분(맵고새콤한...</td>\n",
       "    </tr>\n",
       "  </tbody>\n",
       "</table>\n",
       "<p>42329 rows × 5 columns</p>\n",
       "</div>"
      ],
      "text/plain": [
       "                 storeaddr     storename storetype         callnum  \\\n",
       "0            종로구 통인동 서촌소국밥         서촌소국밥        한식   070-8885-7677   \n",
       "1        종로구 창신동 빽다방 동대문역점     빽다방 동대문역점   테이크아웃커피  0507-1341-0950   \n",
       "2      종로구 소격동 주식회사 가배도 삼청        가배도 삼청        카페     02-732-4542   \n",
       "3               종로구 충신동 기생            기생     우동,소바                   \n",
       "4            종로구 무악동 상구네백반          상구네집    백반,가정식  0507-1325-5324   \n",
       "...                    ...           ...       ...             ...   \n",
       "42324      광진구 화양동 매드쉐프떡볶이      매드쉐프 떡볶이       떡볶이  0507-1325-2388   \n",
       "42325     강서구 화곡동 예담골남원추어탕      예담골남원추어탕       추어탕    02-2646-8002   \n",
       "42326    서초구 잠원동 오공복이 논현역점     오공복이 논현역점        한식  0507-1416-6616   \n",
       "42327     마포구 도화동 옛날불고기 대상      대상 옛날불고기        한식     02-702-3391   \n",
       "42328       종로구 명륜3가 희래등반점  희래등 반점 성대2호점       중식당  0507-1435-5544   \n",
       "\n",
       "                                                    menu  \n",
       "0           [소머리국밥 12,000원, 제육볶음 10,000원, 사골만두국 10,000원]  \n",
       "1      [아메리카노HOT 1,500원, 아메리카노ICE 2,000원, 더블에스프레소 1,5...  \n",
       "2      [말차 라떼 6,500원, 티라미수(일반/말차/얼그레이) 7,000원, 가배 4,9...  \n",
       "3           [우동 12,000원, 고기채소나베 12,000원, 오뎅채소나베 12,000원]  \n",
       "4      [코다리찜 소 20,000원, 올갱이해장국 10,000원, 북어콩나물해장국 8,000원]  \n",
       "...                                                  ...  \n",
       "42324      [매드쉐프 떡볶이 7,000원, 오징어튀김 3,600원, 왕새우튀김 4,000원]  \n",
       "42325  [추어탕+돌솥 8,000원, 통추어탕+돌솥 9,000원, 우렁추어탕+돌솥 10,00...  \n",
       "42326  [스테이크덮밥 11,000원, 호르몬동 10,900원, 명란계란버터밥 7,500원,...  \n",
       "42327  [옛날불고기 13,000원, 뭉티기 육사시미 29,000원, 뭉티기 육회 29,000원]  \n",
       "42328  [계란볶음밥(蛋炒饭） 6,000원, 마라탕(麻辣烫） 7,000원, 산라분(맵고새콤한...  \n",
       "\n",
       "[42329 rows x 5 columns]"
      ]
     },
     "execution_count": 380,
     "metadata": {},
     "output_type": "execute_result"
    }
   ],
   "source": [
    "result_df"
   ]
  },
  {
   "cell_type": "markdown",
   "id": "a2c4fa55",
   "metadata": {},
   "source": [
    "#### save"
   ]
  },
  {
   "cell_type": "code",
   "execution_count": 381,
   "id": "d942c50c",
   "metadata": {},
   "outputs": [],
   "source": [
    "result_df.to_csv(\"C:/worksplaces/workspace_project/project_visual/restaurant_data/data/menu.csv\", index=None)"
   ]
  },
  {
   "cell_type": "code",
   "execution_count": 382,
   "id": "cd28a01c",
   "metadata": {},
   "outputs": [
    {
     "data": {
      "text/plain": [
       "['소머리국밥 12,000원', '제육볶음 10,000원', '사골만두국 10,000원']"
      ]
     },
     "execution_count": 382,
     "metadata": {},
     "output_type": "execute_result"
    }
   ],
   "source": [
    "result[0].get('menu')"
   ]
  },
  {
   "cell_type": "markdown",
   "id": "25ef84e8",
   "metadata": {},
   "source": [
    "**menu 리스트를 분리해서 칼럼 저장**"
   ]
  },
  {
   "cell_type": "code",
   "execution_count": 384,
   "id": "a52d9b30",
   "metadata": {},
   "outputs": [],
   "source": [
    "menu_list = result_df['menu']\n",
    "\n",
    "result_df['menu1'] = menu_list.str.get(0)\n",
    "result_df['menu2'] = menu_list.str.get(1)\n",
    "result_df['menu3'] = menu_list.str.get(2)"
   ]
  },
  {
   "cell_type": "code",
   "execution_count": 385,
   "id": "7a525243",
   "metadata": {},
   "outputs": [],
   "source": [
    "result_df.drop(['menu'] ,axis=1, inplace=True)"
   ]
  },
  {
   "cell_type": "code",
   "execution_count": 386,
   "id": "be3ad2d9",
   "metadata": {},
   "outputs": [],
   "source": [
    "result_df.to_csv(\"C:/worksplaces/workspace_project/project_visual/restaurant_data/data/menu.csv\", index=None)"
   ]
  },
  {
   "cell_type": "code",
   "execution_count": 387,
   "id": "01db696a",
   "metadata": {},
   "outputs": [],
   "source": [
    "menu_list1 = result_df['menu1'].str.split(' ')\n",
    "menu_list2 = result_df['menu2'].str.split(' ')\n",
    "menu_list3 = result_df['menu3'].str.split(' ')\n",
    "\n",
    "result_df['menu1_price'] = menu_list1.str.get(-1)\n",
    "result_df['menu2_price'] = menu_list2.str.get(-1)\n",
    "result_df['menu3_price'] = menu_list3.str.get(-1)"
   ]
  },
  {
   "cell_type": "code",
   "execution_count": 388,
   "id": "92e9eab3",
   "metadata": {},
   "outputs": [],
   "source": [
    "result_df['menu1_price'] = result_df['menu1_price'].str.replace('원', '')\n",
    "result_df['menu2_price'] = result_df['menu2_price'].str.replace('원', '')\n",
    "result_df['menu3_price'] = result_df['menu3_price'].str.replace('원', '')"
   ]
  },
  {
   "cell_type": "code",
   "execution_count": 389,
   "id": "78aca707",
   "metadata": {},
   "outputs": [],
   "source": [
    "result_df.fillna(\"{'menu2_price': 0 , 'menu3_price': 0}\", inplace=True)"
   ]
  },
  {
   "cell_type": "markdown",
   "id": "b752904b",
   "metadata": {},
   "source": [
    "---\n",
    "\n",
    "숫자 ~ 숫자 값을 가진 가격데이터를 최소 가격만 넣기 "
   ]
  },
  {
   "cell_type": "code",
   "execution_count": 390,
   "id": "4d4b2c33",
   "metadata": {},
   "outputs": [
    {
     "name": "stderr",
     "output_type": "stream",
     "text": [
      "C:\\Users\\wogml\\AppData\\Local\\Temp/ipykernel_10640/1366538459.py:4: SettingWithCopyWarning: \n",
      "A value is trying to be set on a copy of a slice from a DataFrame.\n",
      "Try using .loc[row_indexer,col_indexer] = value instead\n",
      "\n",
      "See the caveats in the documentation: https://pandas.pydata.org/pandas-docs/stable/user_guide/indexing.html#returning-a-view-versus-a-copy\n",
      "  special1['menu1_price'] = special_list1.str.get(0)\n",
      "C:\\Users\\wogml\\AppData\\Local\\Temp/ipykernel_10640/1366538459.py:8: SettingWithCopyWarning: \n",
      "A value is trying to be set on a copy of a slice from a DataFrame.\n",
      "Try using .loc[row_indexer,col_indexer] = value instead\n",
      "\n",
      "See the caveats in the documentation: https://pandas.pydata.org/pandas-docs/stable/user_guide/indexing.html#returning-a-view-versus-a-copy\n",
      "  special2['menu2_price'] = special_list2.str.get(0)\n",
      "C:\\Users\\wogml\\AppData\\Local\\Temp/ipykernel_10640/1366538459.py:12: SettingWithCopyWarning: \n",
      "A value is trying to be set on a copy of a slice from a DataFrame.\n",
      "Try using .loc[row_indexer,col_indexer] = value instead\n",
      "\n",
      "See the caveats in the documentation: https://pandas.pydata.org/pandas-docs/stable/user_guide/indexing.html#returning-a-view-versus-a-copy\n",
      "  special3['menu3_price'] = special_list3.str.get(0)\n"
     ]
    }
   ],
   "source": [
    "special1 = result_df[result_df['menu1_price'].str.contains(\"~\")]\n",
    "\n",
    "special_list1 = special1['menu1_price'].str.split('~')\n",
    "special1['menu1_price'] = special_list1.str.get(0)\n",
    "\n",
    "special2 = result_df[result_df['menu2_price'].str.contains(\"~\")]\n",
    "special_list2 = special2['menu2_price'].str.split('~')\n",
    "special2['menu2_price'] = special_list2.str.get(0)\n",
    "\n",
    "special3 = result_df[result_df['menu3_price'].str.contains(\"~\")]\n",
    "special_list3 = special3['menu3_price'].str.split('~')\n",
    "special3['menu3_price'] = special_list3.str.get(0)"
   ]
  },
  {
   "cell_type": "code",
   "execution_count": 391,
   "id": "a73e8eeb",
   "metadata": {},
   "outputs": [],
   "source": [
    "result_df['menu1_price'].iloc[list(special1.index)] = special1['menu1_price']\n",
    "result_df['menu2_price'].iloc[list(special2.index)] = special2['menu2_price']\n",
    "result_df['menu3_price'].iloc[list(special3.index)] = special3['menu3_price']"
   ]
  },
  {
   "cell_type": "code",
   "execution_count": 392,
   "id": "c4d8cc71",
   "metadata": {},
   "outputs": [
    {
     "data": {
      "text/html": [
       "<div>\n",
       "<style scoped>\n",
       "    .dataframe tbody tr th:only-of-type {\n",
       "        vertical-align: middle;\n",
       "    }\n",
       "\n",
       "    .dataframe tbody tr th {\n",
       "        vertical-align: top;\n",
       "    }\n",
       "\n",
       "    .dataframe thead th {\n",
       "        text-align: right;\n",
       "    }\n",
       "</style>\n",
       "<table border=\"1\" class=\"dataframe\">\n",
       "  <thead>\n",
       "    <tr style=\"text-align: right;\">\n",
       "      <th></th>\n",
       "      <th>storeaddr</th>\n",
       "      <th>storename</th>\n",
       "      <th>storetype</th>\n",
       "      <th>callnum</th>\n",
       "      <th>menu1</th>\n",
       "      <th>menu2</th>\n",
       "      <th>menu3</th>\n",
       "      <th>menu1_price</th>\n",
       "      <th>menu2_price</th>\n",
       "      <th>menu3_price</th>\n",
       "    </tr>\n",
       "  </thead>\n",
       "  <tbody>\n",
       "    <tr>\n",
       "      <th>0</th>\n",
       "      <td>종로구 통인동 서촌소국밥</td>\n",
       "      <td>서촌소국밥</td>\n",
       "      <td>한식</td>\n",
       "      <td>070-8885-7677</td>\n",
       "      <td>소머리국밥 12,000원</td>\n",
       "      <td>제육볶음 10,000원</td>\n",
       "      <td>사골만두국 10,000원</td>\n",
       "      <td>12,000</td>\n",
       "      <td>10,000</td>\n",
       "      <td>10,000</td>\n",
       "    </tr>\n",
       "    <tr>\n",
       "      <th>1</th>\n",
       "      <td>종로구 창신동 빽다방 동대문역점</td>\n",
       "      <td>빽다방 동대문역점</td>\n",
       "      <td>테이크아웃커피</td>\n",
       "      <td>0507-1341-0950</td>\n",
       "      <td>아메리카노HOT 1,500원</td>\n",
       "      <td>아메리카노ICE 2,000원</td>\n",
       "      <td>더블에스프레소 1,500원</td>\n",
       "      <td>1,500</td>\n",
       "      <td>2,000</td>\n",
       "      <td>1,500</td>\n",
       "    </tr>\n",
       "    <tr>\n",
       "      <th>2</th>\n",
       "      <td>종로구 소격동 주식회사 가배도 삼청</td>\n",
       "      <td>가배도 삼청</td>\n",
       "      <td>카페</td>\n",
       "      <td>02-732-4542</td>\n",
       "      <td>말차 라떼 6,500원</td>\n",
       "      <td>티라미수(일반/말차/얼그레이) 7,000원</td>\n",
       "      <td>가배 4,900원</td>\n",
       "      <td>6,500</td>\n",
       "      <td>7,000</td>\n",
       "      <td>4,900</td>\n",
       "    </tr>\n",
       "    <tr>\n",
       "      <th>3</th>\n",
       "      <td>종로구 충신동 기생</td>\n",
       "      <td>기생</td>\n",
       "      <td>우동,소바</td>\n",
       "      <td></td>\n",
       "      <td>우동 12,000원</td>\n",
       "      <td>고기채소나베 12,000원</td>\n",
       "      <td>오뎅채소나베 12,000원</td>\n",
       "      <td>12,000</td>\n",
       "      <td>12,000</td>\n",
       "      <td>12,000</td>\n",
       "    </tr>\n",
       "    <tr>\n",
       "      <th>4</th>\n",
       "      <td>종로구 무악동 상구네백반</td>\n",
       "      <td>상구네집</td>\n",
       "      <td>백반,가정식</td>\n",
       "      <td>0507-1325-5324</td>\n",
       "      <td>코다리찜 소 20,000원</td>\n",
       "      <td>올갱이해장국 10,000원</td>\n",
       "      <td>북어콩나물해장국 8,000원</td>\n",
       "      <td>20,000</td>\n",
       "      <td>10,000</td>\n",
       "      <td>8,000</td>\n",
       "    </tr>\n",
       "    <tr>\n",
       "      <th>...</th>\n",
       "      <td>...</td>\n",
       "      <td>...</td>\n",
       "      <td>...</td>\n",
       "      <td>...</td>\n",
       "      <td>...</td>\n",
       "      <td>...</td>\n",
       "      <td>...</td>\n",
       "      <td>...</td>\n",
       "      <td>...</td>\n",
       "      <td>...</td>\n",
       "    </tr>\n",
       "    <tr>\n",
       "      <th>42324</th>\n",
       "      <td>광진구 화양동 매드쉐프떡볶이</td>\n",
       "      <td>매드쉐프 떡볶이</td>\n",
       "      <td>떡볶이</td>\n",
       "      <td>0507-1325-2388</td>\n",
       "      <td>매드쉐프 떡볶이 7,000원</td>\n",
       "      <td>오징어튀김 3,600원</td>\n",
       "      <td>왕새우튀김 4,000원</td>\n",
       "      <td>7,000</td>\n",
       "      <td>3,600</td>\n",
       "      <td>4,000</td>\n",
       "    </tr>\n",
       "    <tr>\n",
       "      <th>42325</th>\n",
       "      <td>강서구 화곡동 예담골남원추어탕</td>\n",
       "      <td>예담골남원추어탕</td>\n",
       "      <td>추어탕</td>\n",
       "      <td>02-2646-8002</td>\n",
       "      <td>추어탕+돌솥 8,000원</td>\n",
       "      <td>통추어탕+돌솥 9,000원</td>\n",
       "      <td>우렁추어탕+돌솥 10,000원</td>\n",
       "      <td>8,000</td>\n",
       "      <td>9,000</td>\n",
       "      <td>10,000</td>\n",
       "    </tr>\n",
       "    <tr>\n",
       "      <th>42326</th>\n",
       "      <td>서초구 잠원동 오공복이 논현역점</td>\n",
       "      <td>오공복이 논현역점</td>\n",
       "      <td>한식</td>\n",
       "      <td>0507-1416-6616</td>\n",
       "      <td>스테이크덮밥 11,000원</td>\n",
       "      <td>호르몬동 10,900원</td>\n",
       "      <td>명란계란버터밥 7,500원</td>\n",
       "      <td>11,000</td>\n",
       "      <td>10,900</td>\n",
       "      <td>7,500</td>\n",
       "    </tr>\n",
       "    <tr>\n",
       "      <th>42327</th>\n",
       "      <td>마포구 도화동 옛날불고기 대상</td>\n",
       "      <td>대상 옛날불고기</td>\n",
       "      <td>한식</td>\n",
       "      <td>02-702-3391</td>\n",
       "      <td>옛날불고기 13,000원</td>\n",
       "      <td>뭉티기 육사시미 29,000원</td>\n",
       "      <td>뭉티기 육회 29,000원</td>\n",
       "      <td>13,000</td>\n",
       "      <td>29,000</td>\n",
       "      <td>29,000</td>\n",
       "    </tr>\n",
       "    <tr>\n",
       "      <th>42328</th>\n",
       "      <td>종로구 명륜3가 희래등반점</td>\n",
       "      <td>희래등 반점 성대2호점</td>\n",
       "      <td>중식당</td>\n",
       "      <td>0507-1435-5544</td>\n",
       "      <td>계란볶음밥(蛋炒饭） 6,000원</td>\n",
       "      <td>마라탕(麻辣烫） 7,000원</td>\n",
       "      <td>산라분(맵고새콤한맛)(酸辣粉） 6,000원</td>\n",
       "      <td>6,000</td>\n",
       "      <td>7,000</td>\n",
       "      <td>6,000</td>\n",
       "    </tr>\n",
       "  </tbody>\n",
       "</table>\n",
       "<p>42329 rows × 10 columns</p>\n",
       "</div>"
      ],
      "text/plain": [
       "                 storeaddr     storename storetype         callnum  \\\n",
       "0            종로구 통인동 서촌소국밥         서촌소국밥        한식   070-8885-7677   \n",
       "1        종로구 창신동 빽다방 동대문역점     빽다방 동대문역점   테이크아웃커피  0507-1341-0950   \n",
       "2      종로구 소격동 주식회사 가배도 삼청        가배도 삼청        카페     02-732-4542   \n",
       "3               종로구 충신동 기생            기생     우동,소바                   \n",
       "4            종로구 무악동 상구네백반          상구네집    백반,가정식  0507-1325-5324   \n",
       "...                    ...           ...       ...             ...   \n",
       "42324      광진구 화양동 매드쉐프떡볶이      매드쉐프 떡볶이       떡볶이  0507-1325-2388   \n",
       "42325     강서구 화곡동 예담골남원추어탕      예담골남원추어탕       추어탕    02-2646-8002   \n",
       "42326    서초구 잠원동 오공복이 논현역점     오공복이 논현역점        한식  0507-1416-6616   \n",
       "42327     마포구 도화동 옛날불고기 대상      대상 옛날불고기        한식     02-702-3391   \n",
       "42328       종로구 명륜3가 희래등반점  희래등 반점 성대2호점       중식당  0507-1435-5544   \n",
       "\n",
       "                   menu1                    menu2                    menu3  \\\n",
       "0          소머리국밥 12,000원             제육볶음 10,000원            사골만두국 10,000원   \n",
       "1        아메리카노HOT 1,500원          아메리카노ICE 2,000원           더블에스프레소 1,500원   \n",
       "2           말차 라떼 6,500원  티라미수(일반/말차/얼그레이) 7,000원                가배 4,900원   \n",
       "3             우동 12,000원           고기채소나베 12,000원           오뎅채소나베 12,000원   \n",
       "4         코다리찜 소 20,000원           올갱이해장국 10,000원          북어콩나물해장국 8,000원   \n",
       "...                  ...                      ...                      ...   \n",
       "42324    매드쉐프 떡볶이 7,000원             오징어튀김 3,600원             왕새우튀김 4,000원   \n",
       "42325      추어탕+돌솥 8,000원           통추어탕+돌솥 9,000원         우렁추어탕+돌솥 10,000원   \n",
       "42326     스테이크덮밥 11,000원             호르몬동 10,900원           명란계란버터밥 7,500원   \n",
       "42327      옛날불고기 13,000원         뭉티기 육사시미 29,000원           뭉티기 육회 29,000원   \n",
       "42328  계란볶음밥(蛋炒饭） 6,000원          마라탕(麻辣烫） 7,000원  산라분(맵고새콤한맛)(酸辣粉） 6,000원   \n",
       "\n",
       "      menu1_price menu2_price menu3_price  \n",
       "0          12,000      10,000      10,000  \n",
       "1           1,500       2,000       1,500  \n",
       "2           6,500       7,000       4,900  \n",
       "3          12,000      12,000      12,000  \n",
       "4          20,000      10,000       8,000  \n",
       "...           ...         ...         ...  \n",
       "42324       7,000       3,600       4,000  \n",
       "42325       8,000       9,000      10,000  \n",
       "42326      11,000      10,900       7,500  \n",
       "42327      13,000      29,000      29,000  \n",
       "42328       6,000       7,000       6,000  \n",
       "\n",
       "[42329 rows x 10 columns]"
      ]
     },
     "execution_count": 392,
     "metadata": {},
     "output_type": "execute_result"
    }
   ],
   "source": [
    "result_df"
   ]
  },
  {
   "cell_type": "markdown",
   "id": "3e2a76a1",
   "metadata": {},
   "source": [
    "---\n",
    "주소랑 지점타이틀을 분리 "
   ]
  },
  {
   "cell_type": "code",
   "execution_count": 393,
   "id": "fa35e7e2",
   "metadata": {},
   "outputs": [],
   "source": [
    "result_list = result_df['storeaddr'].str.split(' ')\n",
    "\n",
    "result_df['addr'] = result_list.str.get(0) + ' ' + result_list.str.get(1)\n",
    "\n",
    "result_df.drop(['storeaddr'], axis=1, inplace=True)"
   ]
  },
  {
   "cell_type": "markdown",
   "id": "b40c1708",
   "metadata": {},
   "source": [
    "지점 타이틀 리스트에서 str로 변환"
   ]
  },
  {
   "cell_type": "code",
   "execution_count": 394,
   "id": "72349108",
   "metadata": {},
   "outputs": [
    {
     "data": {
      "text/plain": [
       "'\\nfor i in range(len(result_df[\\'title\\'])):\\n    s = \" \".join(result_df[\\'title\\'][i])\\n    result_df[\\'title\\'][i] = s\\n\\n'"
      ]
     },
     "execution_count": 394,
     "metadata": {},
     "output_type": "execute_result"
    }
   ],
   "source": [
    "'''\n",
    "for i in range(len(result_df['title'])):\n",
    "    s = \" \".join(result_df['title'][i])\n",
    "    result_df['title'][i] = s\n",
    "\n",
    "'''"
   ]
  },
  {
   "cell_type": "code",
   "execution_count": 395,
   "id": "e88c8350",
   "metadata": {},
   "outputs": [],
   "source": [
    "result_df.to_csv(\"C:/worksplaces/workspace_project/project_visual/restaurant_data/data/menu.csv\", index=None)"
   ]
  },
  {
   "cell_type": "code",
   "execution_count": null,
   "id": "05ba670b",
   "metadata": {},
   "outputs": [],
   "source": []
  },
  {
   "cell_type": "code",
   "execution_count": null,
   "id": "e5889b15",
   "metadata": {},
   "outputs": [],
   "source": []
  }
 ],
 "metadata": {
  "kernelspec": {
   "display_name": "Python 3 (ipykernel)",
   "language": "python",
   "name": "python3"
  },
  "language_info": {
   "codemirror_mode": {
    "name": "ipython",
    "version": 3
   },
   "file_extension": ".py",
   "mimetype": "text/x-python",
   "name": "python",
   "nbconvert_exporter": "python",
   "pygments_lexer": "ipython3",
   "version": "3.9.7"
  }
 },
 "nbformat": 4,
 "nbformat_minor": 5
}
