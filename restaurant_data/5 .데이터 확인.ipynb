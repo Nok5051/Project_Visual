{
 "cells": [
  {
   "cell_type": "code",
   "execution_count": 46,
   "id": "d8ec5f4d",
   "metadata": {},
   "outputs": [],
   "source": [
    "import pandas as pd"
   ]
  },
  {
   "cell_type": "code",
   "execution_count": 48,
   "id": "34e01fd5",
   "metadata": {},
   "outputs": [],
   "source": [
    "df_map = pd.read_csv(\"C:/worksplaces/workspace_project/project_visual/DB save/data/ready_store.csv\")\n",
    "storetype = pd.read_csv(\"C:/worksplaces/workspace_project/project_visual/restaurant_data/data/storetype.csv\")"
   ]
  },
  {
   "cell_type": "code",
   "execution_count": 51,
   "id": "8fa23288",
   "metadata": {},
   "outputs": [],
   "source": [
    "df_map['storetype'] = storetype['storetype']"
   ]
  },
  {
   "cell_type": "code",
   "execution_count": 53,
   "id": "70afb86b",
   "metadata": {},
   "outputs": [
    {
     "data": {
      "text/plain": [
       "array(['주류', '카페/디저트', '일식', '퓨전', '해산물', '양식', '한식', '중식', '뷔페', '기타'],\n",
       "      dtype=object)"
      ]
     },
     "execution_count": 53,
     "metadata": {},
     "output_type": "execute_result"
    }
   ],
   "source": [
    "df_map['storetype'].unique()"
   ]
  },
  {
   "cell_type": "code",
   "execution_count": 56,
   "id": "c50ef467",
   "metadata": {},
   "outputs": [
    {
     "data": {
      "text/plain": [
       "storename      42329\n",
       "storetype      42329\n",
       "callnum        42329\n",
       "menu1          42329\n",
       "menu2          42329\n",
       "menu3          42329\n",
       "menu1_price    42329\n",
       "menu2_price    42329\n",
       "menu3_price    42329\n",
       "addr           42329\n",
       "dtype: int64"
      ]
     },
     "execution_count": 56,
     "metadata": {},
     "output_type": "execute_result"
    }
   ],
   "source": [
    "df_map.count()"
   ]
  },
  {
   "cell_type": "code",
   "execution_count": 57,
   "id": "2df61486",
   "metadata": {},
   "outputs": [],
   "source": [
    "df_map.drop_duplicates(inplace=True)"
   ]
  },
  {
   "cell_type": "code",
   "execution_count": 58,
   "id": "256cd865",
   "metadata": {},
   "outputs": [
    {
     "data": {
      "text/plain": [
       "storename      41559\n",
       "storetype      41559\n",
       "callnum        41559\n",
       "menu1          41559\n",
       "menu2          41559\n",
       "menu3          41559\n",
       "menu1_price    41559\n",
       "menu2_price    41559\n",
       "menu3_price    41559\n",
       "addr           41559\n",
       "dtype: int64"
      ]
     },
     "execution_count": 58,
     "metadata": {},
     "output_type": "execute_result"
    }
   ],
   "source": [
    "df_map.count()"
   ]
  },
  {
   "cell_type": "code",
   "execution_count": 60,
   "id": "08882cd7",
   "metadata": {},
   "outputs": [],
   "source": [
    "df_map.to_csv(\"C:/worksplaces/workspace_project/project_visual/DB save/data/map_store.csv\", index=None, encoding='utf-8-sig')"
   ]
  },
  {
   "cell_type": "code",
   "execution_count": null,
   "id": "468fb545",
   "metadata": {},
   "outputs": [],
   "source": []
  }
 ],
 "metadata": {
  "kernelspec": {
   "display_name": "Python 3 (ipykernel)",
   "language": "python",
   "name": "python3"
  },
  "language_info": {
   "codemirror_mode": {
    "name": "ipython",
    "version": 3
   },
   "file_extension": ".py",
   "mimetype": "text/x-python",
   "name": "python",
   "nbconvert_exporter": "python",
   "pygments_lexer": "ipython3",
   "version": "3.9.7"
  }
 },
 "nbformat": 4,
 "nbformat_minor": 5
}
