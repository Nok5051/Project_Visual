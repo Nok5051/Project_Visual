{
 "cells": [
  {
   "cell_type": "code",
   "execution_count": 1,
   "id": "c6f3fa9b",
   "metadata": {},
   "outputs": [],
   "source": [
    "import pandas as pd\n",
    "import numpy as np"
   ]
  },
  {
   "cell_type": "code",
   "execution_count": 7,
   "id": "01b313a2",
   "metadata": {},
   "outputs": [
    {
     "data": {
      "text/plain": [
       "storename      object\n",
       "storetype      object\n",
       "callnum        object\n",
       "menu1          object\n",
       "menu2          object\n",
       "menu3          object\n",
       "menu1_price     int64\n",
       "menu2_price     int64\n",
       "menu3_price     int64\n",
       "addr           object\n",
       "dtype: object"
      ]
     },
     "execution_count": 7,
     "metadata": {},
     "output_type": "execute_result"
    }
   ],
   "source": [
    "storetype = pd.read_csv(\"C:/worksplaces/workspace_project/project_visual/restaurant_data/data/storetype.csv\")\n",
    "menu = pd.read_csv(\"C:/worksplaces/workspace_project/project_visual/restaurant_data/data/map_store_backup.csv\")\n",
    "menu.dtypes"
   ]
  },
  {
   "cell_type": "code",
   "execution_count": 3,
   "id": "e19cfd3f",
   "metadata": {},
   "outputs": [
    {
     "data": {
      "text/plain": [
       "array(['주류', '카페/디저트', '일식', '퓨전', '해산물', '양식', '한식', '중식', '뷔페', '기타'],\n",
       "      dtype=object)"
      ]
     },
     "execution_count": 3,
     "metadata": {},
     "output_type": "execute_result"
    }
   ],
   "source": [
    "menu['storetype'] = storetype['storetype']\n",
    "menu['storetype'].unique()"
   ]
  },
  {
   "cell_type": "code",
   "execution_count": 6,
   "id": "b9d5c7c7",
   "metadata": {},
   "outputs": [
    {
     "data": {
      "text/plain": [
       "pandas.core.series.Series"
      ]
     },
     "execution_count": 6,
     "metadata": {},
     "output_type": "execute_result"
    }
   ],
   "source": [
    "type(menu['menu1_price'])"
   ]
  },
  {
   "cell_type": "code",
   "execution_count": 4,
   "id": "07e041a0",
   "metadata": {
    "collapsed": true
   },
   "outputs": [
    {
     "ename": "AttributeError",
     "evalue": "Can only use .str accessor with string values!",
     "output_type": "error",
     "traceback": [
      "\u001b[1;31m---------------------------------------------------------------------------\u001b[0m",
      "\u001b[1;31mAttributeError\u001b[0m                            Traceback (most recent call last)",
      "\u001b[1;32m~\\AppData\\Local\\Temp/ipykernel_35348/1768446523.py\u001b[0m in \u001b[0;36m<module>\u001b[1;34m\u001b[0m\n\u001b[1;32m----> 1\u001b[1;33m \u001b[0mmenu\u001b[0m\u001b[1;33m[\u001b[0m\u001b[1;34m'menu1_price'\u001b[0m\u001b[1;33m]\u001b[0m \u001b[1;33m=\u001b[0m \u001b[0mmenu\u001b[0m\u001b[1;33m[\u001b[0m\u001b[1;34m'menu1_price'\u001b[0m\u001b[1;33m]\u001b[0m\u001b[1;33m.\u001b[0m\u001b[0mstr\u001b[0m\u001b[1;33m.\u001b[0m\u001b[0mreplace\u001b[0m\u001b[1;33m(\u001b[0m\u001b[1;34m'변동'\u001b[0m\u001b[1;33m,\u001b[0m \u001b[1;34m'99999'\u001b[0m\u001b[1;33m)\u001b[0m\u001b[1;33m\u001b[0m\u001b[1;33m\u001b[0m\u001b[0m\n\u001b[0m\u001b[0;32m      2\u001b[0m \u001b[0mmenu\u001b[0m\u001b[1;33m[\u001b[0m\u001b[1;34m'menu2_price'\u001b[0m\u001b[1;33m]\u001b[0m \u001b[1;33m=\u001b[0m \u001b[0mmenu\u001b[0m\u001b[1;33m[\u001b[0m\u001b[1;34m'menu2_price'\u001b[0m\u001b[1;33m]\u001b[0m\u001b[1;33m.\u001b[0m\u001b[0mstr\u001b[0m\u001b[1;33m.\u001b[0m\u001b[0mreplace\u001b[0m\u001b[1;33m(\u001b[0m\u001b[1;34m'변동'\u001b[0m\u001b[1;33m,\u001b[0m \u001b[1;34m'99999'\u001b[0m\u001b[1;33m)\u001b[0m\u001b[1;33m\u001b[0m\u001b[1;33m\u001b[0m\u001b[0m\n\u001b[0;32m      3\u001b[0m \u001b[0mmenu\u001b[0m\u001b[1;33m[\u001b[0m\u001b[1;34m'menu3_price'\u001b[0m\u001b[1;33m]\u001b[0m \u001b[1;33m=\u001b[0m \u001b[0mmenu\u001b[0m\u001b[1;33m[\u001b[0m\u001b[1;34m'menu3_price'\u001b[0m\u001b[1;33m]\u001b[0m\u001b[1;33m.\u001b[0m\u001b[0mstr\u001b[0m\u001b[1;33m.\u001b[0m\u001b[0mreplace\u001b[0m\u001b[1;33m(\u001b[0m\u001b[1;34m'변동'\u001b[0m\u001b[1;33m,\u001b[0m \u001b[1;34m'99999'\u001b[0m\u001b[1;33m)\u001b[0m\u001b[1;33m\u001b[0m\u001b[1;33m\u001b[0m\u001b[0m\n\u001b[0;32m      4\u001b[0m \u001b[1;33m\u001b[0m\u001b[0m\n\u001b[0;32m      5\u001b[0m \u001b[0mmenu\u001b[0m\u001b[1;33m[\u001b[0m\u001b[1;34m'menu1_price'\u001b[0m\u001b[1;33m]\u001b[0m \u001b[1;33m=\u001b[0m \u001b[0mmenu\u001b[0m\u001b[1;33m[\u001b[0m\u001b[1;34m'menu1_price'\u001b[0m\u001b[1;33m]\u001b[0m\u001b[1;33m.\u001b[0m\u001b[0mstr\u001b[0m\u001b[1;33m.\u001b[0m\u001b[0mreplace\u001b[0m\u001b[1;33m(\u001b[0m\u001b[1;34m'무료'\u001b[0m\u001b[1;33m,\u001b[0m \u001b[1;34m'0'\u001b[0m\u001b[1;33m)\u001b[0m\u001b[1;33m\u001b[0m\u001b[1;33m\u001b[0m\u001b[0m\n",
      "\u001b[1;32m~\\anaconda3\\lib\\site-packages\\pandas\\core\\generic.py\u001b[0m in \u001b[0;36m__getattr__\u001b[1;34m(self, name)\u001b[0m\n\u001b[0;32m   5485\u001b[0m         ):\n\u001b[0;32m   5486\u001b[0m             \u001b[1;32mreturn\u001b[0m \u001b[0mself\u001b[0m\u001b[1;33m[\u001b[0m\u001b[0mname\u001b[0m\u001b[1;33m]\u001b[0m\u001b[1;33m\u001b[0m\u001b[1;33m\u001b[0m\u001b[0m\n\u001b[1;32m-> 5487\u001b[1;33m         \u001b[1;32mreturn\u001b[0m \u001b[0mobject\u001b[0m\u001b[1;33m.\u001b[0m\u001b[0m__getattribute__\u001b[0m\u001b[1;33m(\u001b[0m\u001b[0mself\u001b[0m\u001b[1;33m,\u001b[0m \u001b[0mname\u001b[0m\u001b[1;33m)\u001b[0m\u001b[1;33m\u001b[0m\u001b[1;33m\u001b[0m\u001b[0m\n\u001b[0m\u001b[0;32m   5488\u001b[0m \u001b[1;33m\u001b[0m\u001b[0m\n\u001b[0;32m   5489\u001b[0m     \u001b[1;32mdef\u001b[0m \u001b[0m__setattr__\u001b[0m\u001b[1;33m(\u001b[0m\u001b[0mself\u001b[0m\u001b[1;33m,\u001b[0m \u001b[0mname\u001b[0m\u001b[1;33m:\u001b[0m \u001b[0mstr\u001b[0m\u001b[1;33m,\u001b[0m \u001b[0mvalue\u001b[0m\u001b[1;33m)\u001b[0m \u001b[1;33m->\u001b[0m \u001b[1;32mNone\u001b[0m\u001b[1;33m:\u001b[0m\u001b[1;33m\u001b[0m\u001b[1;33m\u001b[0m\u001b[0m\n",
      "\u001b[1;32m~\\anaconda3\\lib\\site-packages\\pandas\\core\\accessor.py\u001b[0m in \u001b[0;36m__get__\u001b[1;34m(self, obj, cls)\u001b[0m\n\u001b[0;32m    179\u001b[0m             \u001b[1;31m# we're accessing the attribute of the class, i.e., Dataset.geo\u001b[0m\u001b[1;33m\u001b[0m\u001b[1;33m\u001b[0m\u001b[0m\n\u001b[0;32m    180\u001b[0m             \u001b[1;32mreturn\u001b[0m \u001b[0mself\u001b[0m\u001b[1;33m.\u001b[0m\u001b[0m_accessor\u001b[0m\u001b[1;33m\u001b[0m\u001b[1;33m\u001b[0m\u001b[0m\n\u001b[1;32m--> 181\u001b[1;33m         \u001b[0maccessor_obj\u001b[0m \u001b[1;33m=\u001b[0m \u001b[0mself\u001b[0m\u001b[1;33m.\u001b[0m\u001b[0m_accessor\u001b[0m\u001b[1;33m(\u001b[0m\u001b[0mobj\u001b[0m\u001b[1;33m)\u001b[0m\u001b[1;33m\u001b[0m\u001b[1;33m\u001b[0m\u001b[0m\n\u001b[0m\u001b[0;32m    182\u001b[0m         \u001b[1;31m# Replace the property with the accessor object. Inspired by:\u001b[0m\u001b[1;33m\u001b[0m\u001b[1;33m\u001b[0m\u001b[0m\n\u001b[0;32m    183\u001b[0m         \u001b[1;31m# https://www.pydanny.com/cached-property.html\u001b[0m\u001b[1;33m\u001b[0m\u001b[1;33m\u001b[0m\u001b[0m\n",
      "\u001b[1;32m~\\anaconda3\\lib\\site-packages\\pandas\\core\\strings\\accessor.py\u001b[0m in \u001b[0;36m__init__\u001b[1;34m(self, data)\u001b[0m\n\u001b[0;32m    166\u001b[0m         \u001b[1;32mfrom\u001b[0m \u001b[0mpandas\u001b[0m\u001b[1;33m.\u001b[0m\u001b[0mcore\u001b[0m\u001b[1;33m.\u001b[0m\u001b[0marrays\u001b[0m\u001b[1;33m.\u001b[0m\u001b[0mstring_\u001b[0m \u001b[1;32mimport\u001b[0m \u001b[0mStringDtype\u001b[0m\u001b[1;33m\u001b[0m\u001b[1;33m\u001b[0m\u001b[0m\n\u001b[0;32m    167\u001b[0m \u001b[1;33m\u001b[0m\u001b[0m\n\u001b[1;32m--> 168\u001b[1;33m         \u001b[0mself\u001b[0m\u001b[1;33m.\u001b[0m\u001b[0m_inferred_dtype\u001b[0m \u001b[1;33m=\u001b[0m \u001b[0mself\u001b[0m\u001b[1;33m.\u001b[0m\u001b[0m_validate\u001b[0m\u001b[1;33m(\u001b[0m\u001b[0mdata\u001b[0m\u001b[1;33m)\u001b[0m\u001b[1;33m\u001b[0m\u001b[1;33m\u001b[0m\u001b[0m\n\u001b[0m\u001b[0;32m    169\u001b[0m         \u001b[0mself\u001b[0m\u001b[1;33m.\u001b[0m\u001b[0m_is_categorical\u001b[0m \u001b[1;33m=\u001b[0m \u001b[0mis_categorical_dtype\u001b[0m\u001b[1;33m(\u001b[0m\u001b[0mdata\u001b[0m\u001b[1;33m.\u001b[0m\u001b[0mdtype\u001b[0m\u001b[1;33m)\u001b[0m\u001b[1;33m\u001b[0m\u001b[1;33m\u001b[0m\u001b[0m\n\u001b[0;32m    170\u001b[0m         \u001b[0mself\u001b[0m\u001b[1;33m.\u001b[0m\u001b[0m_is_string\u001b[0m \u001b[1;33m=\u001b[0m \u001b[0misinstance\u001b[0m\u001b[1;33m(\u001b[0m\u001b[0mdata\u001b[0m\u001b[1;33m.\u001b[0m\u001b[0mdtype\u001b[0m\u001b[1;33m,\u001b[0m \u001b[0mStringDtype\u001b[0m\u001b[1;33m)\u001b[0m\u001b[1;33m\u001b[0m\u001b[1;33m\u001b[0m\u001b[0m\n",
      "\u001b[1;32m~\\anaconda3\\lib\\site-packages\\pandas\\core\\strings\\accessor.py\u001b[0m in \u001b[0;36m_validate\u001b[1;34m(data)\u001b[0m\n\u001b[0;32m    223\u001b[0m \u001b[1;33m\u001b[0m\u001b[0m\n\u001b[0;32m    224\u001b[0m         \u001b[1;32mif\u001b[0m \u001b[0minferred_dtype\u001b[0m \u001b[1;32mnot\u001b[0m \u001b[1;32min\u001b[0m \u001b[0mallowed_types\u001b[0m\u001b[1;33m:\u001b[0m\u001b[1;33m\u001b[0m\u001b[1;33m\u001b[0m\u001b[0m\n\u001b[1;32m--> 225\u001b[1;33m             \u001b[1;32mraise\u001b[0m \u001b[0mAttributeError\u001b[0m\u001b[1;33m(\u001b[0m\u001b[1;34m\"Can only use .str accessor with string values!\"\u001b[0m\u001b[1;33m)\u001b[0m\u001b[1;33m\u001b[0m\u001b[1;33m\u001b[0m\u001b[0m\n\u001b[0m\u001b[0;32m    226\u001b[0m         \u001b[1;32mreturn\u001b[0m \u001b[0minferred_dtype\u001b[0m\u001b[1;33m\u001b[0m\u001b[1;33m\u001b[0m\u001b[0m\n\u001b[0;32m    227\u001b[0m \u001b[1;33m\u001b[0m\u001b[0m\n",
      "\u001b[1;31mAttributeError\u001b[0m: Can only use .str accessor with string values!"
     ]
    }
   ],
   "source": [
    "menu['menu1_price'] = menu['menu1_price'].str.replace('변동', '99999')\n",
    "menu['menu2_price'] = menu['menu2_price'].str.replace('변동', '99999')\n",
    "menu['menu3_price'] = menu['menu3_price'].str.replace('변동', '99999')\n",
    "\n",
    "menu['menu1_price'] = menu['menu1_price'].str.replace('무료', '0')\n",
    "menu['menu2_price'] = menu['menu2_price'].str.replace('무료', '0')\n",
    "menu['menu3_price'] = menu['menu3_price'].str.replace('무료', '0')\n",
    "\n",
    "menu['menu1_price'] = menu['menu1_price'].str.replace(',', '')\n",
    "menu['menu2_price'] = menu['menu2_price'].str.replace(',', '')\n",
    "menu['menu3_price'] = menu['menu3_price'].str.replace(',', '') \n",
    "\n",
    "menu['menu2_price'] = menu['menu2_price'].replace(\"{'menu2_price': 0  'menu3_price': 0}\", 0)\n",
    "menu['menu3_price'] = menu['menu3_price'].replace(\"{'menu2_price': 0  'menu3_price': 0}\", 0)\n",
    "menu['menu2_price'] = menu['menu2_price'].replace(\"{'menu2_price': 0 , 'menu3_price': 0}\", 0)\n",
    "menu['menu3_price'] = menu['menu3_price'].replace(\"{'menu2_price': 0 , 'menu3_price': 0}\", 0)\n",
    "\n",
    "menu['menu1'] = menu['menu1'].replace(\"{'menu2_price': 0 , 'menu3_price': 0}\", 0)\n",
    "menu['menu2'] = menu['menu2'].replace(\"{'menu2_price': 0 , 'menu3_price': 0}\", 0)\n",
    "\n",
    "\n",
    "menu['menu1_price'] = menu['menu1_price'].str.replace('menu3', '0')\n",
    "\n",
    "menu['menu2_price'] = menu['menu2_price'].str.replace('C', '0')\n",
    "menu['menu3_price'] = menu['menu3_price'].str.replace('C', '0') \n",
    "\n",
    "menu['menu1'] = menu['menu1'].str.replace('®ooo•:', '')\n",
    "menu['menu2'] = menu['menu2'].str.replace('®ooo•:', '') \n",
    "menu['menu3'] = menu['menu3'].str.replace('®ooo•:', '')\n",
    "\n",
    "menu['menu1'] = menu['menu1'].str.replace('Phở ', '쌀국수')\n",
    "menu['menu2'] = menu['menu2'].str.replace('Phở ', '쌀국수') \n",
    "menu['menu3'] = menu['menu3'].str.replace('Phở ', '쌀국수')\n",
    "\n",
    "menu['menu1'] = menu['menu1'].str.replace('Gà chiên muối ớt', '')\n",
    "menu['menu2'] = menu['menu2'].str.replace('Chân gà sốt ớt', '') \n",
    "menu['menu3'] = menu['menu3'].str.replace('Chân gà sốt ớt', '')\n",
    "\n",
    "menu['menu1'] = menu['menu1'].str.replace('大', '대')\n",
    "menu['menu2'] = menu['menu2'].str.replace('大', '대')\n",
    "menu['menu3'] = menu['menu3'].str.replace('大', '대')\n",
    "\n",
    "menu['menu1'] = menu['menu1'].str.replace('中', '중')\n",
    "menu['menu2'] = menu['menu2'].str.replace('中', '중')\n",
    "menu['menu3'] = menu['menu3'].str.replace('中', '중')\n",
    "\n",
    "menu['menu1'] = menu['menu1'].str.replace('小', '소')\n",
    "menu['menu2'] = menu['menu2'].str.replace('小', '소')\n",
    "menu['menu3'] = menu['menu3'].str.replace('小', '소')\n",
    "\n",
    "menu['menu1'] = menu['menu1'].str.replace('=-', '')\n",
    "\n",
    "menu['menu1'] = menu['menu1'].str.replace('+', ',')\n",
    "menu['menu1'] = menu['menu1'].str.replace('&', '')\n",
    "menu['callnum'] = menu['callnum'].str.replace(' ', '없음')\n"
   ]
  },
  {
   "cell_type": "code",
   "execution_count": 8,
   "id": "946c09a6",
   "metadata": {
    "collapsed": true
   },
   "outputs": [
    {
     "name": "stderr",
     "output_type": "stream",
     "text": [
      "C:\\Users\\wogml\\AppData\\Local\\Temp/ipykernel_35348/383224201.py:1: FutureWarning: The default value of regex will change from True to False in a future version.\n",
      "  menu['menu2'] = menu['menu2'].str.replace(\"{'menu2_price': 0 , 'menu3_price': 0}\", '없음')\n",
      "C:\\Users\\wogml\\AppData\\Local\\Temp/ipykernel_35348/383224201.py:2: FutureWarning: The default value of regex will change from True to False in a future version.\n",
      "  menu['menu3'] = menu['menu2'].str.replace(\"{'menu2_price': 0 , 'menu3_price': 0}\", '없음')\n"
     ]
    },
    {
     "ename": "AttributeError",
     "evalue": "Can only use .str accessor with string values!",
     "output_type": "error",
     "traceback": [
      "\u001b[1;31m---------------------------------------------------------------------------\u001b[0m",
      "\u001b[1;31mAttributeError\u001b[0m                            Traceback (most recent call last)",
      "\u001b[1;32m~\\AppData\\Local\\Temp/ipykernel_35348/383224201.py\u001b[0m in \u001b[0;36m<module>\u001b[1;34m\u001b[0m\n\u001b[0;32m      2\u001b[0m \u001b[0mmenu\u001b[0m\u001b[1;33m[\u001b[0m\u001b[1;34m'menu3'\u001b[0m\u001b[1;33m]\u001b[0m \u001b[1;33m=\u001b[0m \u001b[0mmenu\u001b[0m\u001b[1;33m[\u001b[0m\u001b[1;34m'menu2'\u001b[0m\u001b[1;33m]\u001b[0m\u001b[1;33m.\u001b[0m\u001b[0mstr\u001b[0m\u001b[1;33m.\u001b[0m\u001b[0mreplace\u001b[0m\u001b[1;33m(\u001b[0m\u001b[1;34m\"{'menu2_price': 0 , 'menu3_price': 0}\"\u001b[0m\u001b[1;33m,\u001b[0m \u001b[1;34m'없음'\u001b[0m\u001b[1;33m)\u001b[0m\u001b[1;33m\u001b[0m\u001b[1;33m\u001b[0m\u001b[0m\n\u001b[0;32m      3\u001b[0m \u001b[1;33m\u001b[0m\u001b[0m\n\u001b[1;32m----> 4\u001b[1;33m \u001b[0mmenu\u001b[0m\u001b[1;33m[\u001b[0m\u001b[1;34m'menu2_price'\u001b[0m\u001b[1;33m]\u001b[0m \u001b[1;33m=\u001b[0m \u001b[0mmenu\u001b[0m\u001b[1;33m[\u001b[0m\u001b[1;34m'menu2_price'\u001b[0m\u001b[1;33m]\u001b[0m\u001b[1;33m.\u001b[0m\u001b[0mstr\u001b[0m\u001b[1;33m.\u001b[0m\u001b[0mreplace\u001b[0m\u001b[1;33m(\u001b[0m\u001b[1;34m'nan'\u001b[0m\u001b[1;33m,\u001b[0m \u001b[1;34m'0'\u001b[0m\u001b[1;33m)\u001b[0m\u001b[1;33m\u001b[0m\u001b[1;33m\u001b[0m\u001b[0m\n\u001b[0m\u001b[0;32m      5\u001b[0m \u001b[0mmenu\u001b[0m\u001b[1;33m[\u001b[0m\u001b[1;34m'menu3_price'\u001b[0m\u001b[1;33m]\u001b[0m \u001b[1;33m=\u001b[0m \u001b[0mmenu\u001b[0m\u001b[1;33m[\u001b[0m\u001b[1;34m'menu3_price'\u001b[0m\u001b[1;33m]\u001b[0m\u001b[1;33m.\u001b[0m\u001b[0mstr\u001b[0m\u001b[1;33m.\u001b[0m\u001b[0mreplace\u001b[0m\u001b[1;33m(\u001b[0m\u001b[1;34m'nan'\u001b[0m\u001b[1;33m,\u001b[0m \u001b[1;34m'0'\u001b[0m\u001b[1;33m)\u001b[0m\u001b[1;33m\u001b[0m\u001b[1;33m\u001b[0m\u001b[0m\n",
      "\u001b[1;32m~\\anaconda3\\lib\\site-packages\\pandas\\core\\generic.py\u001b[0m in \u001b[0;36m__getattr__\u001b[1;34m(self, name)\u001b[0m\n\u001b[0;32m   5485\u001b[0m         ):\n\u001b[0;32m   5486\u001b[0m             \u001b[1;32mreturn\u001b[0m \u001b[0mself\u001b[0m\u001b[1;33m[\u001b[0m\u001b[0mname\u001b[0m\u001b[1;33m]\u001b[0m\u001b[1;33m\u001b[0m\u001b[1;33m\u001b[0m\u001b[0m\n\u001b[1;32m-> 5487\u001b[1;33m         \u001b[1;32mreturn\u001b[0m \u001b[0mobject\u001b[0m\u001b[1;33m.\u001b[0m\u001b[0m__getattribute__\u001b[0m\u001b[1;33m(\u001b[0m\u001b[0mself\u001b[0m\u001b[1;33m,\u001b[0m \u001b[0mname\u001b[0m\u001b[1;33m)\u001b[0m\u001b[1;33m\u001b[0m\u001b[1;33m\u001b[0m\u001b[0m\n\u001b[0m\u001b[0;32m   5488\u001b[0m \u001b[1;33m\u001b[0m\u001b[0m\n\u001b[0;32m   5489\u001b[0m     \u001b[1;32mdef\u001b[0m \u001b[0m__setattr__\u001b[0m\u001b[1;33m(\u001b[0m\u001b[0mself\u001b[0m\u001b[1;33m,\u001b[0m \u001b[0mname\u001b[0m\u001b[1;33m:\u001b[0m \u001b[0mstr\u001b[0m\u001b[1;33m,\u001b[0m \u001b[0mvalue\u001b[0m\u001b[1;33m)\u001b[0m \u001b[1;33m->\u001b[0m \u001b[1;32mNone\u001b[0m\u001b[1;33m:\u001b[0m\u001b[1;33m\u001b[0m\u001b[1;33m\u001b[0m\u001b[0m\n",
      "\u001b[1;32m~\\anaconda3\\lib\\site-packages\\pandas\\core\\accessor.py\u001b[0m in \u001b[0;36m__get__\u001b[1;34m(self, obj, cls)\u001b[0m\n\u001b[0;32m    179\u001b[0m             \u001b[1;31m# we're accessing the attribute of the class, i.e., Dataset.geo\u001b[0m\u001b[1;33m\u001b[0m\u001b[1;33m\u001b[0m\u001b[0m\n\u001b[0;32m    180\u001b[0m             \u001b[1;32mreturn\u001b[0m \u001b[0mself\u001b[0m\u001b[1;33m.\u001b[0m\u001b[0m_accessor\u001b[0m\u001b[1;33m\u001b[0m\u001b[1;33m\u001b[0m\u001b[0m\n\u001b[1;32m--> 181\u001b[1;33m         \u001b[0maccessor_obj\u001b[0m \u001b[1;33m=\u001b[0m \u001b[0mself\u001b[0m\u001b[1;33m.\u001b[0m\u001b[0m_accessor\u001b[0m\u001b[1;33m(\u001b[0m\u001b[0mobj\u001b[0m\u001b[1;33m)\u001b[0m\u001b[1;33m\u001b[0m\u001b[1;33m\u001b[0m\u001b[0m\n\u001b[0m\u001b[0;32m    182\u001b[0m         \u001b[1;31m# Replace the property with the accessor object. Inspired by:\u001b[0m\u001b[1;33m\u001b[0m\u001b[1;33m\u001b[0m\u001b[0m\n\u001b[0;32m    183\u001b[0m         \u001b[1;31m# https://www.pydanny.com/cached-property.html\u001b[0m\u001b[1;33m\u001b[0m\u001b[1;33m\u001b[0m\u001b[0m\n",
      "\u001b[1;32m~\\anaconda3\\lib\\site-packages\\pandas\\core\\strings\\accessor.py\u001b[0m in \u001b[0;36m__init__\u001b[1;34m(self, data)\u001b[0m\n\u001b[0;32m    166\u001b[0m         \u001b[1;32mfrom\u001b[0m \u001b[0mpandas\u001b[0m\u001b[1;33m.\u001b[0m\u001b[0mcore\u001b[0m\u001b[1;33m.\u001b[0m\u001b[0marrays\u001b[0m\u001b[1;33m.\u001b[0m\u001b[0mstring_\u001b[0m \u001b[1;32mimport\u001b[0m \u001b[0mStringDtype\u001b[0m\u001b[1;33m\u001b[0m\u001b[1;33m\u001b[0m\u001b[0m\n\u001b[0;32m    167\u001b[0m \u001b[1;33m\u001b[0m\u001b[0m\n\u001b[1;32m--> 168\u001b[1;33m         \u001b[0mself\u001b[0m\u001b[1;33m.\u001b[0m\u001b[0m_inferred_dtype\u001b[0m \u001b[1;33m=\u001b[0m \u001b[0mself\u001b[0m\u001b[1;33m.\u001b[0m\u001b[0m_validate\u001b[0m\u001b[1;33m(\u001b[0m\u001b[0mdata\u001b[0m\u001b[1;33m)\u001b[0m\u001b[1;33m\u001b[0m\u001b[1;33m\u001b[0m\u001b[0m\n\u001b[0m\u001b[0;32m    169\u001b[0m         \u001b[0mself\u001b[0m\u001b[1;33m.\u001b[0m\u001b[0m_is_categorical\u001b[0m \u001b[1;33m=\u001b[0m \u001b[0mis_categorical_dtype\u001b[0m\u001b[1;33m(\u001b[0m\u001b[0mdata\u001b[0m\u001b[1;33m.\u001b[0m\u001b[0mdtype\u001b[0m\u001b[1;33m)\u001b[0m\u001b[1;33m\u001b[0m\u001b[1;33m\u001b[0m\u001b[0m\n\u001b[0;32m    170\u001b[0m         \u001b[0mself\u001b[0m\u001b[1;33m.\u001b[0m\u001b[0m_is_string\u001b[0m \u001b[1;33m=\u001b[0m \u001b[0misinstance\u001b[0m\u001b[1;33m(\u001b[0m\u001b[0mdata\u001b[0m\u001b[1;33m.\u001b[0m\u001b[0mdtype\u001b[0m\u001b[1;33m,\u001b[0m \u001b[0mStringDtype\u001b[0m\u001b[1;33m)\u001b[0m\u001b[1;33m\u001b[0m\u001b[1;33m\u001b[0m\u001b[0m\n",
      "\u001b[1;32m~\\anaconda3\\lib\\site-packages\\pandas\\core\\strings\\accessor.py\u001b[0m in \u001b[0;36m_validate\u001b[1;34m(data)\u001b[0m\n\u001b[0;32m    223\u001b[0m \u001b[1;33m\u001b[0m\u001b[0m\n\u001b[0;32m    224\u001b[0m         \u001b[1;32mif\u001b[0m \u001b[0minferred_dtype\u001b[0m \u001b[1;32mnot\u001b[0m \u001b[1;32min\u001b[0m \u001b[0mallowed_types\u001b[0m\u001b[1;33m:\u001b[0m\u001b[1;33m\u001b[0m\u001b[1;33m\u001b[0m\u001b[0m\n\u001b[1;32m--> 225\u001b[1;33m             \u001b[1;32mraise\u001b[0m \u001b[0mAttributeError\u001b[0m\u001b[1;33m(\u001b[0m\u001b[1;34m\"Can only use .str accessor with string values!\"\u001b[0m\u001b[1;33m)\u001b[0m\u001b[1;33m\u001b[0m\u001b[1;33m\u001b[0m\u001b[0m\n\u001b[0m\u001b[0;32m    226\u001b[0m         \u001b[1;32mreturn\u001b[0m \u001b[0minferred_dtype\u001b[0m\u001b[1;33m\u001b[0m\u001b[1;33m\u001b[0m\u001b[0m\n\u001b[0;32m    227\u001b[0m \u001b[1;33m\u001b[0m\u001b[0m\n",
      "\u001b[1;31mAttributeError\u001b[0m: Can only use .str accessor with string values!"
     ]
    }
   ],
   "source": [
    "menu['menu2_price'] = menu['menu2_price'].str.replace('nan', '0') \n",
    "menu['menu3_price'] = menu['menu3_price'].str.replace('nan', '0') "
   ]
  },
  {
   "cell_type": "markdown",
   "id": "0df045dc",
   "metadata": {},
   "source": [
    "### 여기서 부터 시행하시오"
   ]
  },
  {
   "cell_type": "code",
   "execution_count": 20,
   "id": "ede60fbc",
   "metadata": {},
   "outputs": [],
   "source": [
    "test = pd.read_csv(\"C:/worksplaces/workspace_project/project_visual/restaurant_data/data/map_store_backup.csv\")"
   ]
  },
  {
   "cell_type": "code",
   "execution_count": 21,
   "id": "636e4c35",
   "metadata": {},
   "outputs": [],
   "source": [
    "test['menu2'].fillna('없음', inplace=True)\n",
    "test['menu3'].fillna('없음', inplace=True)\n",
    "\n",
    "test['menu2_price'].fillna(0, inplace=True)\n",
    "test['menu3_price'].fillna(0, inplace=True)"
   ]
  },
  {
   "cell_type": "code",
   "execution_count": 22,
   "id": "c7600dca",
   "metadata": {},
   "outputs": [
    {
     "name": "stderr",
     "output_type": "stream",
     "text": [
      "C:\\Users\\wogml\\AppData\\Local\\Temp/ipykernel_35348/253598421.py:1: FutureWarning: The default value of regex will change from True to False in a future version.\n",
      "  test['menu2'] = test['menu2'].str.replace(\"{'menu2_price': 0 , 'menu3_price': 0}\", '없음')\n",
      "C:\\Users\\wogml\\AppData\\Local\\Temp/ipykernel_35348/253598421.py:2: FutureWarning: The default value of regex will change from True to False in a future version.\n",
      "  test['menu3'] = test['menu2'].str.replace(\"{'menu2_price': 0 , 'menu3_price': 0}\", '없음')\n"
     ]
    }
   ],
   "source": [
    "test['menu2'] = test['menu2'].str.replace(\"{'menu2_price': 0 , 'menu3_price': 0}\", '없음')\n",
    "test['menu3'] = test['menu2'].str.replace(\"{'menu2_price': 0 , 'menu3_price': 0}\", '없음')\n"
   ]
  },
  {
   "cell_type": "code",
   "execution_count": 23,
   "id": "8bce81f3",
   "metadata": {},
   "outputs": [],
   "source": [
    "test['menu1_price'] = pd.to_numeric(test['menu1_price'])\n",
    "test['menu2_price'] = pd.to_numeric(test['menu2_price'])\n",
    "test['menu3_price'] = pd.to_numeric(test['menu3_price'])"
   ]
  },
  {
   "cell_type": "code",
   "execution_count": 24,
   "id": "9040f334",
   "metadata": {},
   "outputs": [
    {
     "data": {
      "text/plain": [
       "1000012000"
      ]
     },
     "execution_count": 24,
     "metadata": {},
     "output_type": "execute_result"
    }
   ],
   "source": [
    "test['menu1_price'].max()"
   ]
  },
  {
   "cell_type": "markdown",
   "id": "522d7571",
   "metadata": {},
   "source": [
    "**조건에 맞는 로우값 수정**"
   ]
  },
  {
   "cell_type": "code",
   "execution_count": 25,
   "id": "09594f9b",
   "metadata": {},
   "outputs": [],
   "source": [
    "test.loc[test.menu1_price > 100000, 'menu1_price'] = 99999\n",
    "test.loc[test.menu2_price > 100000, 'menu2_price'] = 99999\n",
    "test.loc[test.menu3_price > 100000, 'menu3_price'] = 99999"
   ]
  },
  {
   "cell_type": "markdown",
   "id": "6a812267",
   "metadata": {},
   "source": [
    "### 이모지 정리"
   ]
  },
  {
   "cell_type": "code",
   "execution_count": 26,
   "id": "b48778a5",
   "metadata": {},
   "outputs": [],
   "source": [
    "test['menu1'] = test['menu1'].str.replace('🍊', '')\n",
    "test['menu2'] = test['menu2'].str.replace('🍊', '') \n",
    "test['menu3'] = test['menu3'].str.replace('🍊', '')\n",
    "\n",
    "test['menu1'] = test['menu1'].str.replace('❤️', '')\n",
    "test['menu2'] = test['menu2'].str.replace('❤️', '') \n",
    "test['menu3'] = test['menu3'].str.replace('❤️', '')\n",
    "\n",
    "test['menu1'] = test['menu1'].str.replace('⭐️', '')\n",
    "test['menu2'] = test['menu2'].str.replace('⭐️', '') \n",
    "test['menu3'] = test['menu3'].str.replace('⭐️', '')\n",
    "\n",
    "\n",
    "test['menu1'] = test['menu1'].str.replace('♦️', '')\n",
    "test['menu2'] = test['menu2'].str.replace('♦️', '') \n",
    "test['menu3'] = test['menu3'].str.replace('♦️', '')\n",
    "\n",
    "test['menu1'] = test['menu1'].str.replace('☆★※②', '')\n",
    "test['menu2'] = test['menu2'].str.replace('☆★※②', '') \n",
    "test['menu3'] = test['menu3'].str.replace('☆★※②', '')\n",
    "\n",
    "test['menu1'] = test['menu1'].str.replace('🧡', '')\n",
    "test['menu2'] = test['menu2'].str.replace('🧡', '') \n",
    "test['menu3'] = test['menu3'].str.replace('🧡', '')\n",
    "\n",
    "test['menu1'] = test['menu1'].str.replace('🍅', '')\n",
    "test['menu2'] = test['menu2'].str.replace('🍅', '') \n",
    "test['menu3'] = test['menu3'].str.replace('🍅', '')\n",
    "\n",
    "test['menu1'] = test['menu1'].str.replace('🌸', '')\n",
    "test['menu2'] = test['menu2'].str.replace('🌸', '') \n",
    "test['menu3'] = test['menu3'].str.replace('🌸', '')\n",
    "\n",
    "test['menu1'] = test['menu1'].str.replace('🏅', '')\n",
    "test['menu2'] = test['menu2'].str.replace('🏅', '') \n",
    "test['menu3'] = test['menu3'].str.replace('🏅', '')\n",
    "\n",
    "test['menu1'] = test['menu1'].str.replace('👍', '')\n",
    "test['menu2'] = test['menu2'].str.replace('👍', '') \n",
    "test['menu3'] = test['menu3'].str.replace('👍', '')\n",
    "\n",
    "test['menu1'] = test['menu1'].str.replace('🌟', '')\n",
    "test['menu2'] = test['menu2'].str.replace('🌟', '') \n",
    "test['menu3'] = test['menu3'].str.replace('🌟', '')\n",
    "\n",
    "test['menu1'] = test['menu1'].str.replace('🌶', '')\n",
    "test['menu2'] = test['menu2'].str.replace('🌶', '') \n",
    "test['menu3'] = test['menu3'].str.replace('🌶', '')\n",
    "\n",
    "test['menu1'] = test['menu1'].str.replace('🌯', '')\n",
    "test['menu2'] = test['menu2'].str.replace('🌯', '') \n",
    "test['menu3'] = test['menu3'].str.replace('🌯', '')\n",
    "\n",
    "test['menu1'] = test['menu1'].str.replace('🍋', '')\n",
    "test['menu2'] = test['menu2'].str.replace('🍋', '') \n",
    "test['menu3'] = test['menu3'].str.replace('🍋', '')\n",
    "\n",
    "test['menu1'] = test['menu1'].str.replace('🍤', '')\n",
    "test['menu2'] = test['menu2'].str.replace('🍤', '') \n",
    "test['menu3'] = test['menu3'].str.replace('🍤', '')\n",
    "\n",
    "test['menu1'] = test['menu1'].str.replace('🥦', '')\n",
    "test['menu2'] = test['menu2'].str.replace('🥦', '') \n",
    "test['menu3'] = test['menu3'].str.replace('🥦', '')\n",
    "\n",
    "test['menu1'] = test['menu1'].str.replace('★', '')\n",
    "test['menu2'] = test['menu2'].str.replace('★', '') \n",
    "test['menu3'] = test['menu3'].str.replace('★', '')\n",
    "\n",
    "test['menu1'] = test['menu1'].str.replace('▶', '')\n",
    "test['menu2'] = test['menu2'].str.replace('▶', '') \n",
    "test['menu3'] = test['menu3'].str.replace('▶', '')\n",
    "\n",
    "test['menu1'] = test['menu1'].str.replace('☆', '')\n",
    "test['menu2'] = test['menu2'].str.replace('☆', '') \n",
    "test['menu3'] = test['menu3'].str.replace('☆', '')\n",
    "\n",
    "test['menu1'] = test['menu1'].str.replace('🥩', '')\n",
    "test['menu2'] = test['menu2'].str.replace('🥩', '') \n",
    "test['menu3'] = test['menu3'].str.replace('🥩', '')\n",
    "\n",
    "test['menu1'] = test['menu1'].str.replace('🥩', '')\n",
    "test['menu2'] = test['menu2'].str.replace('🥩', '') \n",
    "test['menu3'] = test['menu3'].str.replace('🥩', '')\n",
    "\n",
    "test['menu1'] = test['menu1'].str.replace('🍖', '')\n",
    "test['menu2'] = test['menu2'].str.replace('🍖', '') \n",
    "test['menu3'] = test['menu3'].str.replace('🍖', '')\n",
    "\n",
    "test['menu1'] = test['menu1'].str.replace('✅', '')\n",
    "test['menu2'] = test['menu2'].str.replace('✅', '') \n",
    "test['menu3'] = test['menu3'].str.replace('✅', '')\n",
    "\n",
    "test['menu1'] = test['menu1'].str.replace('🍒', '')\n",
    "test['menu2'] = test['menu2'].str.replace('🍒', '') \n",
    "test['menu3'] = test['menu3'].str.replace('🍒', '')\n",
    "\n",
    "test['menu1'] = test['menu1'].str.replace('🌿', '')\n",
    "test['menu2'] = test['menu2'].str.replace('🌿', '') \n",
    "test['menu3'] = test['menu3'].str.replace('🌿', '')"
   ]
  },
  {
   "cell_type": "code",
   "execution_count": 27,
   "id": "f35cf02e",
   "metadata": {},
   "outputs": [],
   "source": [
    "test['menu1'] = test['menu1'].str.replace('®oooㅇ•:①②', '')\n",
    "test['menu2'] = test['menu2'].str.replace('®oooㅇ•:①②', '') \n",
    "test['menu3'] = test['menu3'].str.replace('®oooㅇ•:①②', '')"
   ]
  },
  {
   "cell_type": "code",
   "execution_count": 28,
   "id": "e07c1bd3",
   "metadata": {},
   "outputs": [],
   "source": [
    "test.to_csv(\"C:/worksplaces/workspace_project/project_visual/DB save/data/ready_store.csv\", index=None, encoding='utf-8-sig')"
   ]
  },
  {
   "cell_type": "code",
   "execution_count": null,
   "id": "daed5dc3",
   "metadata": {},
   "outputs": [],
   "source": []
  },
  {
   "cell_type": "code",
   "execution_count": null,
   "id": "ee6ae169",
   "metadata": {},
   "outputs": [],
   "source": []
  }
 ],
 "metadata": {
  "kernelspec": {
   "display_name": "Python 3 (ipykernel)",
   "language": "python",
   "name": "python3"
  },
  "language_info": {
   "codemirror_mode": {
    "name": "ipython",
    "version": 3
   },
   "file_extension": ".py",
   "mimetype": "text/x-python",
   "name": "python",
   "nbconvert_exporter": "python",
   "pygments_lexer": "ipython3",
   "version": "3.9.7"
  }
 },
 "nbformat": 4,
 "nbformat_minor": 5
}
